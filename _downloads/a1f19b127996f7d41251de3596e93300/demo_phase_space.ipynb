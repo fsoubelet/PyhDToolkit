{
  "cells": [
    {
      "cell_type": "code",
      "execution_count": null,
      "metadata": {
        "collapsed": false
      },
      "outputs": [],
      "source": [
        "%matplotlib inline"
      ]
    },
    {
      "cell_type": "markdown",
      "metadata": {},
      "source": [
        "\n\n# Phase Space\n\nThis example shows how to use the `~.plotters.PhaseSpacePlotter.plot_courant_snyder_phase_space` \nand `~.plotters.PhaseSpacePlotter.plot_courant_snyder_phase_space_colored` functions to visualise\nthe particles' trajectories in phase space for your machine.\n\nIn this example we will generate a dummy lattice, set its working point and track particles to plot their phase space coordinates.\n"
      ]
    },
    {
      "cell_type": "code",
      "execution_count": null,
      "metadata": {
        "collapsed": false
      },
      "outputs": [],
      "source": [
        "import matplotlib.pyplot as plt\nimport numpy as np\n\nfrom cpymad.madx import Madx\n\nfrom pyhdtoolkit.cpymadtools.generators import LatticeGenerator\nfrom pyhdtoolkit.cpymadtools.matching import match_tunes_and_chromaticities\nfrom pyhdtoolkit.cpymadtools.plotters import PhaseSpacePlotter\nfrom pyhdtoolkit.cpymadtools.track import track_single_particle\nfrom pyhdtoolkit.utils import defaults\n\ndefaults.config_logger(level=\"warning\")\nplt.rcParams.update(defaults._SPHINX_GALLERY_PARAMS)  # for readability of this tutorial"
      ]
    },
    {
      "cell_type": "markdown",
      "metadata": {},
      "source": [
        "Define some constants, generate a simple lattice and setup your simulation:\n\n"
      ]
    },
    {
      "cell_type": "code",
      "execution_count": null,
      "metadata": {
        "collapsed": false
      },
      "outputs": [],
      "source": [
        "base_lattice: str = LatticeGenerator.generate_base_cas_lattice()\n\nn_particles: int = 150\nn_turns: int = 1000  # just enough to do a full revolution in phase space\ninitial_x_coordinates = np.linspace(1e-4, 0.05, n_particles)\n\nx_coords, px_coords, y_coords, py_coords = [], [], [], []"
      ]
    },
    {
      "cell_type": "markdown",
      "metadata": {},
      "source": [
        "Input the lattice into ``MAD-X``, and match to a desired working point:\n\n"
      ]
    },
    {
      "cell_type": "code",
      "execution_count": null,
      "metadata": {
        "collapsed": false
      },
      "outputs": [],
      "source": [
        "madx = Madx(stdout=False)\nmadx.input(base_lattice)\nmatch_tunes_and_chromaticities(\n    madx,\n    None,\n    \"CAS3\",\n    q1_target=6.335,\n    q2_target=6.29,\n    dq1_target=100,\n    dq2_target=100,\n    varied_knobs=[\"kqf\", \"kqd\", \"ksf\", \"ksd\"],\n)"
      ]
    },
    {
      "cell_type": "markdown",
      "metadata": {},
      "source": [
        "We can then perform tracking on a range of particles. Here the **x_coords**, **px_coords**,\n**y_coords** and **py_coords** become lists of arrays, in which each element has the array of\na particle's coordinates for each turn.\n\n"
      ]
    },
    {
      "cell_type": "code",
      "execution_count": null,
      "metadata": {
        "collapsed": false
      },
      "outputs": [],
      "source": [
        "for starting_x in initial_x_coordinates:\n    tracks_df = track_single_particle(\n        madx, initial_coordinates=(starting_x, 0, 0, 0, 0, 0), nturns=n_turns\n    )\n    x_coords.append(tracks_df[\"observation_point_1\"].x.to_numpy())\n    y_coords.append(tracks_df[\"observation_point_1\"].y.to_numpy())\n    px_coords.append(tracks_df[\"observation_point_1\"].px.to_numpy())\n    py_coords.append(tracks_df[\"observation_point_1\"].py.to_numpy())"
      ]
    },
    {
      "cell_type": "markdown",
      "metadata": {},
      "source": [
        "Now we can plot these coordinates in phase space, here for the horizontal plane.\nNote that the function automatically calculates the normalized coordinates and\nplots these.\n\n"
      ]
    },
    {
      "cell_type": "code",
      "execution_count": null,
      "metadata": {
        "collapsed": false
      },
      "outputs": [],
      "source": [
        "PhaseSpacePlotter.plot_courant_snyder_phase_space(\n    madx, x_coords, px_coords, plane=\"Horizontal\", figsize=(10, 9)\n)\nplt.xlim(-0.012 * 1e3, 0.02 * 1e3)\nplt.ylim(-0.02 * 1e3, 0.023 * 1e3)\nplt.show()"
      ]
    },
    {
      "cell_type": "markdown",
      "metadata": {},
      "source": [
        "Using the `~pyhdtoolkit.cpymadtools.plotters.PhaseSpacePlotter.plot_courant_snyder_phase_space_colored`\nfunction, one gets a plot in which each color corresponds to a given particle's trajectory:\n\n"
      ]
    },
    {
      "cell_type": "code",
      "execution_count": null,
      "metadata": {
        "collapsed": false
      },
      "outputs": [],
      "source": [
        "PhaseSpacePlotter.plot_courant_snyder_phase_space_colored(\n    madx, x_coords, px_coords, plane=\"Horizontal\", figsize=(10, 9)\n)\nplt.xlim(-0.012 * 1e3, 0.02 * 1e3)\nplt.ylim(-0.02 * 1e3, 0.023 * 1e3)\nplt.show()"
      ]
    },
    {
      "cell_type": "markdown",
      "metadata": {},
      "source": [
        "We can see the phase space evolve as the machine's working conditions change.\nIn our case, this dummy lattice is meant for classes and is very robust, so if\none wants significant change, a solution is to excite a resonance!\n\nTo do so, we will use a similar lattice equipped with a sextupole, which we will\nuse to excite the resonance.\n\n"
      ]
    },
    {
      "cell_type": "code",
      "execution_count": null,
      "metadata": {
        "collapsed": false
      },
      "outputs": [],
      "source": [
        "perturbed_lattice = LatticeGenerator.generate_onesext_cas_lattice()\nmadx.exit()  # close the previous rpc connection\n\nmadx = Madx(stdout=False)\nmadx.input(perturbed_lattice)\nmadx.input(\"ks1 = 0.1;\")  # powering the sextupole"
      ]
    },
    {
      "cell_type": "markdown",
      "metadata": {},
      "source": [
        "Let's get close to the third order resonance and track particles.\n\n"
      ]
    },
    {
      "cell_type": "code",
      "execution_count": null,
      "metadata": {
        "collapsed": false
      },
      "outputs": [],
      "source": [
        "match_tunes_and_chromaticities(\n    madx,\n    None,\n    \"CAS3\",\n    q1_target=6.335,\n    q2_target=6.29,\n    dq1_target=100,\n    dq2_target=100,\n    varied_knobs=[\"kqf\", \"kqd\", \"ksf\", \"ksd\"],\n)\n\nx_coords_sext, px_coords_sext, y_coords_sext, py_coords_sext = [], [], [], []\n\nfor starting_x in initial_x_coordinates:\n    tracks_df = track_single_particle(\n        madx, initial_coordinates=(starting_x, 0, 0, 0, 0, 0), nturns=n_turns\n    )\n    x_coords_sext.append(tracks_df[\"observation_point_1\"].x.to_numpy())\n    y_coords_sext.append(tracks_df[\"observation_point_1\"].y.to_numpy())\n    px_coords_sext.append(tracks_df[\"observation_point_1\"].px.to_numpy())\n    py_coords_sext.append(tracks_df[\"observation_point_1\"].py.to_numpy())"
      ]
    },
    {
      "cell_type": "markdown",
      "metadata": {},
      "source": [
        "Plotting the new phase space, we can clearly see the resonance's islands!\n\n"
      ]
    },
    {
      "cell_type": "code",
      "execution_count": null,
      "metadata": {
        "collapsed": false
      },
      "outputs": [],
      "source": [
        "PhaseSpacePlotter.plot_courant_snyder_phase_space_colored(\n    madx, x_coords_sext, px_coords_sext, plane=\"Horizontal\", figsize=(10, 9)\n)\nplt.xlim(-0.015 * 1e3, 0.015 * 1e3)\nplt.ylim(-0.015 * 1e3, 0.015 * 1e3)"
      ]
    },
    {
      "cell_type": "markdown",
      "metadata": {},
      "source": [
        "Let's not forget to close the rpc connection to ``MAD-X``:\n\n"
      ]
    },
    {
      "cell_type": "code",
      "execution_count": null,
      "metadata": {
        "collapsed": false
      },
      "outputs": [],
      "source": [
        "madx.exit()"
      ]
    },
    {
      "cell_type": "markdown",
      "metadata": {},
      "source": [
        ".. admonition:: References\n\n   The use of the following functions, methods, classes and modules is shown\n   in this example:\n\n   - `~.cpymadtools.generators`: `~.generators.LatticeGenerator`\n   - `~.cpymadtools.matching`: `~.matching.match_tunes_and_chromaticities`\n   - `~.cpymadtools.plotters`: `~.plotters.PhaseSpacePlotter`, `~.plotters.PhaseSpacePlotter.plot_courant_snyder_phase_space`, `~.plotters.PhaseSpacePlotter.plot_courant_snyder_phase_space_colored`\n   - `~.cpymadtools.track`: `~.track.track_single_particle`\n\n"
      ]
    }
  ],
  "metadata": {
    "kernelspec": {
      "display_name": "Python 3",
      "language": "python",
      "name": "python3"
    },
    "language_info": {
      "codemirror_mode": {
        "name": "ipython",
        "version": 3
      },
      "file_extension": ".py",
      "mimetype": "text/x-python",
      "name": "python",
      "nbconvert_exporter": "python",
      "pygments_lexer": "ipython3",
      "version": "3.7.12"
    }
  },
  "nbformat": 4,
  "nbformat_minor": 0
}