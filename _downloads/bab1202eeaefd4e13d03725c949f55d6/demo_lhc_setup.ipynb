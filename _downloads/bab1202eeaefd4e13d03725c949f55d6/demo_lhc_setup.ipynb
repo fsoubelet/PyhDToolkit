{
  "cells": [
    {
      "cell_type": "markdown",
      "metadata": {},
      "source": [
        "\n\n# Quick LHC Setup\n\nThese examples show how to use the functions in `pyhdtoolkit.cpymadtools.lhc._setup`\nmanagers to easily and quickly set up LHC simulations. These are exported and\navailable at the level of the `pyhdtoolkit.cpymadtools.lhc` module.\n\n<div class=\"alert alert-info\"><h4>Note</h4><p>This is obviously very specific to the LHC machine.</p></div>\n\n.. important::\n    This example requires the `acc-models-lhc` repository to be cloned locally. One\n    can get it by running the following command:\n\n```bash\ngit clone -b 2022 https://gitlab.cern.ch/acc-models/acc-models-lhc.git --depth 1\n```\n    Here I set the 2022 branch for stability and reproducibility of the documentation\n    builds, but you can use any branch you want.\n"
      ]
    },
    {
      "cell_type": "code",
      "execution_count": null,
      "metadata": {
        "collapsed": false
      },
      "outputs": [],
      "source": [
        "import matplotlib.pyplot as plt\n\nfrom cpymad.madx import Madx\n\nfrom pyhdtoolkit.cpymadtools import coupling, lhc, twiss\nfrom pyhdtoolkit.plotting.aperture import plot_physical_apertures\nfrom pyhdtoolkit.plotting.envelope import plot_beam_envelope\nfrom pyhdtoolkit.plotting.styles import _SPHINX_GALLERY_PARAMS\nfrom pyhdtoolkit.plotting.utils import draw_ip_locations, get_lhc_ips_positions\nfrom pyhdtoolkit.utils import logging\n\nlogging.config_logger(level=\"error\")  # keep the output clean\nplt.rcParams.update(_SPHINX_GALLERY_PARAMS)  # for readability of this tutorial"
      ]
    },
    {
      "cell_type": "markdown",
      "metadata": {},
      "source": [
        "One might have different ways that the LHC examples in other pages of this\ngallery are set up, for instance in the `LHC crossing schemes example\n<demo-crossing-schemes>` or the `AC Dipole tracking example\n<demo-ac-dipole-tracking>`. Setting up the LHC usually involves the same\nsteps every time: calling the sequence, defining beams, calling the optics\nfile, potentially slicing the sequence, calling ``use`` on the proper beam\nsequence, etc. See below for a typical B1 example:\n\n"
      ]
    },
    {
      "cell_type": "code",
      "execution_count": null,
      "metadata": {
        "collapsed": false
      },
      "outputs": [],
      "source": [
        "madx = Madx(stdout=False)\nmadx.call(\"acc-models-lhc/lhc.seq\")\nlhc.make_lhc_beams(madx, energy=6800)\nlhc.make_lhc_thin(madx, sequence=\"lhcb1\", slicefactor=4)\nlhc.make_lhc_beams(madx, energy=6800)\nlhc.re_cycle_sequence(madx, sequence=\"lhcb1\", start=\"MSIA.EXIT.B1\")\nmadx.call(\"acc-models-lhc/operation/optics/R2022a_A30cmC30cmA10mL200cm.madx\")\nmadx.command.use(sequence=\"lhcb1\")\nmadx.exit()"
      ]
    },
    {
      "cell_type": "markdown",
      "metadata": {},
      "source": [
        "As this is quite repetitive and involves quite a few places in which to write\n\"hard-coded\" elements (e.g. lhcb1, the re-cycling start point etc) convenience\nfunctions are provided.\n\n"
      ]
    },
    {
      "cell_type": "markdown",
      "metadata": {},
      "source": [
        "## Preparing the LHC setups\nTwo functions in `pyhdtoolkit.cpymadtools.lhc._setup` provide functionality\nto set up the LHC simulations quickly and effortlessly:\n`~.cpymadtools.lhc._setup.setup_lhc.prepare_lhc_run2` and\n`~.cpymadtools.lhc._setup.setup_lhc.prepare_lhc_run3`.\n\nThey both return a `cpyamad.Madx` instance with the desired LHC sequence and\noptics loaded, beams defined for both ``lhcb1`` and ``lhcb2`` sequences,\npotentially sliced lattices etc. The very minimum required at function call\nis to provide an opticsfile, other arguments are optional. Keyword arguments\nare passed to the `~cpymad.madx.Madx` creation call. For instance:\n\n"
      ]
    },
    {
      "cell_type": "code",
      "execution_count": null,
      "metadata": {
        "collapsed": false
      },
      "outputs": [],
      "source": [
        "# One could give the optics name only and it will be found automatically assuming the\n# `acc-models-lhc` repo structure. See lower down for examples.\nmadx = lhc.prepare_lhc_run3(\n    opticsfile=\"acc-models-lhc/operation/optics/R2022a_A30cmC30cmA10mL200cm.madx\",\n    stdout=False,\n)\ndf = twiss.get_twiss_tfs(madx)\nips = get_lhc_ips_positions(df)\n\nwith plt.rc_context(_SPHINX_GALLERY_PARAMS):\n    fig, ax = plt.subplots(figsize=(18, 10))\n    ax.plot(df.S, df.BETX / 1e3, label=r\"$\\beta_x$\")\n    ax.plot(df.S, df.BETY / 1e3, label=r\"$\\beta_y$\")\n    draw_ip_locations(ips)\n    ax.set_xlabel(\"Longitudinal location [m]\")\n    ax.set_ylabel(r\"$\\beta_{x,y}$ [km]\")\n    ax.legend()\n    plt.show()"
      ]
    },
    {
      "cell_type": "markdown",
      "metadata": {},
      "source": [
        "Let's not forget to close the rpc connection to ``MAD-X``:\n\n"
      ]
    },
    {
      "cell_type": "code",
      "execution_count": null,
      "metadata": {
        "collapsed": false
      },
      "outputs": [],
      "source": [
        "madx.exit()"
      ]
    },
    {
      "cell_type": "markdown",
      "metadata": {},
      "source": [
        "## As a context manager\nIn order to not have to close the ``MAD-X`` instance everytime, we can use the\ncontext manager options from `cpymad`. To apply this to an LHC setup, there is\n`pyhdtoolkit.cpymadtools.lhc._setup.LHCSetup` to be used as a context manager.\nIt calls the functions seen above internally and works on the same logic. The\nabove becomes:\n\n"
      ]
    },
    {
      "cell_type": "code",
      "execution_count": null,
      "metadata": {
        "collapsed": false
      },
      "outputs": [],
      "source": [
        "with lhc.LHCSetup(run=3, opticsfile=\"R2022a_A30cmC30cmA10mL200cm.madx\", stdout=False) as madx:\n    df = twiss.get_twiss_tfs(madx)\n    ips = get_lhc_ips_positions(df)\n\n    with plt.rc_context(_SPHINX_GALLERY_PARAMS):\n        fig, ax = plt.subplots(figsize=(18, 10))\n        ax.plot(df.S, df.BETX / 1e3, label=r\"$\\beta_x$\")\n        ax.plot(df.S, df.BETY / 1e3, label=r\"$\\beta_y$\")\n        draw_ip_locations(ips)\n        ax.set_xlabel(\"Longitudinal location [m]\")\n        ax.set_ylabel(r\"$\\beta_{x,y}$ [km]\")\n        ax.legend()\n        plt.show()"
      ]
    },
    {
      "cell_type": "markdown",
      "metadata": {},
      "source": [
        "Notice we don't need to call ``madx.exit()`` as the context manager takes care\nof that.\n\nThese quick setups, with context manager option, allow to do quick \"one-shot\"\nsimulations. For example, one can very quickly compare beam sizes around say\nIP5 for two different optics. Here below for the 2022 proton injection optics:\n\n"
      ]
    },
    {
      "cell_type": "code",
      "execution_count": null,
      "metadata": {
        "collapsed": false
      },
      "outputs": [],
      "source": [
        "with lhc.LHCSetup(run=3, opticsfile=\"R2022a_A11mC11mA10mL10m.madx\", stdout=False) as madx:\n    df = twiss.get_twiss_tfs(madx)\n    ips = get_lhc_ips_positions(df)\n    limits = (ips[\"IP5\"] - 500, ips[\"IP5\"] + 500)\n\n    with plt.rc_context(_SPHINX_GALLERY_PARAMS):\n        fig, axes = plt.subplots(2, 1, sharex=True, figsize=(18, 10))\n\n        plot_beam_envelope(madx, \"lhcb1\", \"x\", 1, scale=1e3, xlimits=limits, ax=axes[0])\n        plot_beam_envelope(madx, \"lhcb1\", \"x\", 3, scale=1e3, xlimits=limits, ax=axes[0])\n        plot_beam_envelope(madx, \"lhcb1\", \"x\", 5, scale=1e3, xlimits=limits, ax=axes[0])\n        axes[0].set_ylabel(\"X [mm]\")\n\n        plot_beam_envelope(madx, \"lhcb1\", \"y\", 1, scale=1e3, xlimits=limits, ax=axes[1])\n        plot_beam_envelope(madx, \"lhcb1\", \"y\", 3, scale=1e3, xlimits=limits, ax=axes[1])\n        plot_beam_envelope(madx, \"lhcb1\", \"y\", 5, scale=1e3, xlimits=limits, ax=axes[1])\n        axes[1].set_ylabel(\"Y [mm]\")\n        axes[1].set_xlabel(\"Longitudinal location [m]\")\n\n        for axis in axes:\n            axis.legend()\n            axis.yaxis.set_major_locator(plt.MaxNLocator(5))\n            draw_ip_locations(ips, location=\"inside\", ax=axis)\n\n        fig.suptitle(\"LHC Injection Optics\")\n        fig.align_ylabels(axes)\n\n        plt.tight_layout()\n        plt.show()"
      ]
    },
    {
      "cell_type": "markdown",
      "metadata": {},
      "source": [
        "Now, the same with betastar = 30cm optics. We can also easily add the\nelement apertures on top of the plot (notice how we get this result with only\n28 lines of code!):\n\n"
      ]
    },
    {
      "cell_type": "code",
      "execution_count": null,
      "metadata": {
        "collapsed": false
      },
      "outputs": [],
      "source": [
        "with lhc.LHCSetup(opticsfile=\"R2022a_A30cmC30cmA10mL200cm.madx\", stdout=False) as madx:\n    # We'll need to call these to have aperture limitations\n    madx.call(\"lhc/aperture.b1.madx\")\n    madx.call(\"lhc/aper_tol.b1.madx\")\n\n    df = twiss.get_twiss_tfs(madx)\n    ips = get_lhc_ips_positions(df)\n    limits = (ips[\"IP5\"] - 350, ips[\"IP5\"] + 350)\n\n    with plt.rc_context(_SPHINX_GALLERY_PARAMS):\n        fig, axes = plt.subplots(2, 1, sharex=True, figsize=(18, 13))\n\n        plot_physical_apertures(madx, plane=\"x\", scale=1e3, xlimits=limits, ax=axes[0])\n        plot_beam_envelope(madx, \"lhcb1\", \"x\", 3, scale=1e3, xlimits=limits, ax=axes[0])\n        plot_beam_envelope(madx, \"lhcb1\", \"x\", 6, scale=1e3, xlimits=limits, ax=axes[0])\n        plot_beam_envelope(madx, \"lhcb1\", \"x\", 11, scale=1e3, xlimits=limits, ax=axes[0])\n        axes[0].set_ylabel(\"X [mm]\")\n\n        plot_physical_apertures(madx, plane=\"y\", scale=1e3, xlimits=limits, ax=axes[1])\n        plot_beam_envelope(madx, \"lhcb1\", \"y\", 3, scale=1e3, xlimits=limits, ax=axes[1])\n        plot_beam_envelope(madx, \"lhcb1\", \"y\", 6, scale=1e3, xlimits=limits, ax=axes[1])\n        plot_beam_envelope(madx, \"lhcb1\", \"y\", 11, scale=1e3, xlimits=limits, ax=axes[1])\n        axes[1].set_ylabel(\"Y [mm]\")\n        axes[1].set_xlabel(\"Longitudinal location [m]\")\n\n        for axis in axes:\n            axis.legend()\n            axis.set_ylim(-45, 45)\n            axis.yaxis.set_major_locator(plt.MaxNLocator(5))\n            draw_ip_locations(ips, ax=axis)\n\n        fig.suptitle(r\"LHC $\\beta^{\\ast} = 30$cm Optics\")\n        fig.align_ylabels(axes)\n\n        plt.tight_layout()\n        plt.show()"
      ]
    },
    {
      "cell_type": "markdown",
      "metadata": {},
      "source": [
        "If one wants to have a look at, say, coupling RDTs throughout the machine, for\nboth beams when applying the coupling knob:\n\n"
      ]
    },
    {
      "cell_type": "code",
      "execution_count": null,
      "metadata": {
        "collapsed": false
      },
      "outputs": [],
      "source": [
        "with lhc.LHCSetup(opticsfile=\"R2022a_A30cmC30cmA10mL200cm.madx\", stdout=False) as madx:\n    lhc.apply_lhc_coupling_knob(madx, coupling_knob=5e-3)\n    rdtsb1 = coupling.get_coupling_rdts(madx)\n\nwith lhc.LHCSetup(opticsfile=\"R2022a_A30cmC30cmA10mL200cm.madx\", beam=2, stdout=False) as madx:\n    lhc.apply_lhc_coupling_knob(madx, coupling_knob=5e-3, beam=2)\n    rdtsb2 = coupling.get_coupling_rdts(madx)\n\nipsb1 = get_lhc_ips_positions(rdtsb1)\nipsb2 = get_lhc_ips_positions(rdtsb2)\n\nwith plt.rc_context(_SPHINX_GALLERY_PARAMS):\n    fig, (b1, b2) = plt.subplots(nrows=2, ncols=1, sharex=True, figsize=(15, 10))\n    b1.plot(rdtsb1.S, rdtsb1.F1001.abs(), label=r\"$f_{1001}$\")\n    b1.plot(rdtsb1.S, rdtsb1.F1010.abs(), label=r\"$f_{1010}$\")\n    b1.set_title(\"Beam 1\")\n    draw_ip_locations(ipsb1, location=\"inside\", ax=b1)\n\n    b2.plot(rdtsb2.S, rdtsb2.F1001.abs(), label=r\"$f_{1001}$\")\n    b2.plot(rdtsb2.S, rdtsb2.F1010.abs(), label=r\"$f_{1010}$\")\n    draw_ip_locations(ipsb2, location=\"inside\", ax=b2)\n    b2.set_title(\"Beam 2\")\n    b2.set_xlabel(\"Longitudinal location [m]\")\n\n    for axis in (b1, b2):\n        axis.set_ylabel(\"|RDT|\")\n        axis.legend()\n    plt.show()"
      ]
    },
    {
      "cell_type": "markdown",
      "metadata": {},
      "source": [
        "That's it, happy simulations!\n\n.. admonition:: References\n\n   The use of the following functions, methods, classes and modules is shown\n   in this example:\n\n   - `~.cpymadtools.coupling`: `~.coupling.get_coupling_rdts`\n   - `~.cpymadtools.lhc`: `~.lhc.apply_lhc_coupling_knob`, `~.lhc._setup.LHCSetup`, `~.lhc._setup.prepare_lhc_run3`, `~.lhc._setup.prepare_lhc_run2`\n   - `~.plotting.aperture`: `~.plotting.aperture.plot_physical_apertures`\n   - `~.plotting.envelope`: `~.plotting.envelope.plot_beam_envelope`\n   - `~.plotting.utils`:  `~.plotting.utils.draw_ip_locations`, `~.plotting.utils.get_lhc_ips_positions`\n\n"
      ]
    }
  ],
  "metadata": {
    "kernelspec": {
      "display_name": "Python 3",
      "language": "python",
      "name": "python3"
    },
    "language_info": {
      "codemirror_mode": {
        "name": "ipython",
        "version": 3
      },
      "file_extension": ".py",
      "mimetype": "text/x-python",
      "name": "python",
      "nbconvert_exporter": "python",
      "pygments_lexer": "ipython3",
      "version": "3.12.7"
    }
  },
  "nbformat": 4,
  "nbformat_minor": 0
}