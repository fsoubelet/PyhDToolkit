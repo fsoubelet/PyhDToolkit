{
  "cells": [
    {
      "cell_type": "code",
      "execution_count": null,
      "metadata": {
        "collapsed": false
      },
      "outputs": [],
      "source": [
        "%matplotlib inline"
      ]
    },
    {
      "cell_type": "markdown",
      "metadata": {},
      "source": [
        "\n\n# Quick LHC Setup\n\nThese examples show how to use the functions in `pyhdtoolkit.cpymadtools.lhc._setup`\nmanagers to easily and quickly set up LHC simulations. These are exported and \navailable at the level of the `pyhdtoolkit.cpymadtools.lhc` module.\n\n<div class=\"alert alert-info\"><h4>Note</h4><p>This is obviously very specific to the LHC machine.</p></div>\n"
      ]
    },
    {
      "cell_type": "code",
      "execution_count": null,
      "metadata": {
        "collapsed": false
      },
      "outputs": [],
      "source": [
        "import matplotlib.pyplot as plt\n\nfrom pyhdtoolkit.cpymadtools import coupling, lhc, twiss\nfrom pyhdtoolkit.plotting.aperture import plot_physical_apertures\nfrom pyhdtoolkit.plotting.envelope import plot_beam_envelope\nfrom pyhdtoolkit.plotting.styles import _SPHINX_GALLERY_PARAMS\nfrom pyhdtoolkit.plotting.utils import draw_ip_locations, get_lhc_ips_positions\nfrom pyhdtoolkit.utils import logging\n\nlogging.config_logger(level=\"error\")  # keep the output clean\nplt.rcParams.update(_SPHINX_GALLERY_PARAMS)  # for readability of this tutorial"
      ]
    },
    {
      "cell_type": "markdown",
      "metadata": {},
      "source": [
        "## Preparing the LHC setups\nTwo functions in `pyhdtoolkit.cpymadtools.lhc._setup` provide functionality to\nset up the LHC simulations quickly and effortlessly:\n`~.cpymadtools.lhc._setup.setup_lhc.prepare_lhc_run2` and\n`~.cpymadtools.lhc._setup.setup_lhc.prepare_lhc_run3`.`\nThey return a `cpyamad.Madx` instance with the LHC sequence and optics loaded,\nboth beams defined.\n\n.. important::\n    As this is a Run 3 setup, it is assumed that the ``acc-models-lhc`` repo\n    is available in the root space, which is needed by the different files in\n    ``acc-models-lhc``.\n\n"
      ]
    },
    {
      "cell_type": "code",
      "execution_count": null,
      "metadata": {
        "collapsed": false
      },
      "outputs": [],
      "source": [
        "# We need to give an opticsfile at the very least, other arguments are optional\nmadx = lhc.prepare_lhc_run3(\n    opticsfile=\"acc-models-lhc/operation/optics/R2022a_A30cmC30cmA10mL200cm.madx\",\n    stdout=False,\n)\ndf = twiss.get_twiss_tfs(madx)\nips = get_lhc_ips_positions(df)\n\nwith plt.rc_context(_SPHINX_GALLERY_PARAMS):\n    fig, ax = plt.subplots(figsize=(18, 10))\n    ax.plot(df.S, df.BETX / 1e3, label=r\"$\\beta_x$\")\n    ax.plot(df.S, df.BETY / 1e3, label=r\"$\\beta_y$\")\n    draw_ip_locations(ips)\n    ax.set_xlabel(\"S [m]\")\n    ax.set_ylabel(r\"$\\beta_{x,y}$ [km]\")\n    ax.legend()\n    plt.show()"
      ]
    },
    {
      "cell_type": "markdown",
      "metadata": {},
      "source": [
        "Let's not forget to close the rpc connection to ``MAD-X``:\n\n"
      ]
    },
    {
      "cell_type": "code",
      "execution_count": null,
      "metadata": {
        "collapsed": false
      },
      "outputs": [],
      "source": [
        "madx.exit()"
      ]
    },
    {
      "cell_type": "markdown",
      "metadata": {},
      "source": [
        "## As a context manager\nIn order to not have to close the ``MAD-X`` instance everytime, we can use the\ncontext manager options from `cpymad`. To apply this to an LHC setup, there is\n`pyhdtoolkit.cpymadtools.lhc._setup.LHCSetup` to be used as a context manager.\nIt calls the functions seen above internally and works on the same logic:\n\nThese quick setups, with context manager option, allow to do quick \"one-shot\"\nsimulations with the LHC. For example, one can very quickly compare apertures\naround say IP5 for two optics files as below:\n\n"
      ]
    },
    {
      "cell_type": "code",
      "execution_count": null,
      "metadata": {
        "collapsed": false
      },
      "outputs": [],
      "source": [
        "# One can just give the name of the optics file and it will be found automatically\n# assuming the ``acc-models-lhc`` repo structure. Defaults assume Run 3.\nwith lhc.LHCSetup(run=3, opticsfile=\"R2022a_A11mC11mA10mL10m.madx\", stdout=False) as madx:\n    df = twiss.get_twiss_tfs(madx)\n    ips = get_lhc_ips_positions(df)\n    limits = (ips[\"IP5\"] - 500, ips[\"IP5\"] + 500)\n\n    with plt.rc_context(_SPHINX_GALLERY_PARAMS):\n        fig, axes = plt.subplots(2, 1, sharex=True, figsize=(18, 10))\n\n        plot_beam_envelope(madx, \"lhcb1\", \"x\", 1, scale=1e3, xlimits=limits, ax=axes[0])\n        plot_beam_envelope(madx, \"lhcb1\", \"x\", 3, scale=1e3, xlimits=limits, ax=axes[0])\n        plot_beam_envelope(madx, \"lhcb1\", \"x\", 5, scale=1e3, xlimits=limits, ax=axes[0])\n        axes[0].set_ylabel(\"X [mm]\")\n\n        plot_beam_envelope(madx, \"lhcb1\", \"y\", 1, scale=1e3, xlimits=limits, ax=axes[1])\n        plot_beam_envelope(madx, \"lhcb1\", \"y\", 3, scale=1e3, xlimits=limits, ax=axes[1])\n        plot_beam_envelope(madx, \"lhcb1\", \"y\", 5, scale=1e3, xlimits=limits, ax=axes[1])\n        axes[1].set_ylabel(\"Y [mm]\")\n        axes[1].set_xlabel(\"S [m]\")\n\n        for axis in axes:\n            axis.legend()\n            axis.yaxis.set_major_locator(plt.MaxNLocator(5))\n            draw_ip_locations(ips, location=\"inside\", ax=axis)\n\n        fig.suptitle(\"LHC Injection Optics\")\n        fig.align_ylabels(axes)\n\n        plt.tight_layout()\n        plt.show()"
      ]
    },
    {
      "cell_type": "markdown",
      "metadata": {},
      "source": [
        "Notice we don't need to call ``madx.exit()`` as the context manager takes care\nof that. Now, the same with betastar = 30cm optics. We can also easily add the\nelement apertures on top of the plot:\n\n"
      ]
    },
    {
      "cell_type": "code",
      "execution_count": null,
      "metadata": {
        "collapsed": false
      },
      "outputs": [],
      "source": [
        "with lhc.LHCSetup(opticsfile=\"R2022a_A30cmC30cmA10mL200cm.madx\", stdout=False) as madx:\n    # We'll need to call these to have aperture limitations\n    madx.call(\"lhc/aperture.b1.madx\")\n    madx.call(\"lhc/aper_tol.b1.madx\")\n    \n    df = twiss.get_twiss_tfs(madx)\n    ips = get_lhc_ips_positions(df)\n    limits = (ips[\"IP5\"] - 350, ips[\"IP5\"] + 350)\n\n    with plt.rc_context(_SPHINX_GALLERY_PARAMS):\n        fig, axes = plt.subplots(2, 1, sharex=True, figsize=(18, 13))\n\n        plot_physical_apertures(madx, plane=\"x\", scale=1e3, xlimits=limits, ax=axes[0])\n        plot_beam_envelope(madx, \"lhcb1\", \"x\", 3, scale=1e3, xlimits=limits, ax=axes[0])\n        plot_beam_envelope(madx, \"lhcb1\", \"x\", 6, scale=1e3, xlimits=limits, ax=axes[0])\n        plot_beam_envelope(madx, \"lhcb1\", \"x\", 11, scale=1e3, xlimits=limits, ax=axes[0])\n        axes[0].set_ylabel(\"X [mm]\")\n\n        plot_physical_apertures(madx, plane=\"y\", scale=1e3, xlimits=limits, ax=axes[1])\n        plot_beam_envelope(madx, \"lhcb1\", \"y\", 3, scale=1e3, xlimits=limits, ax=axes[1])\n        plot_beam_envelope(madx, \"lhcb1\", \"y\", 6, scale=1e3, xlimits=limits, ax=axes[1])\n        plot_beam_envelope(madx, \"lhcb1\", \"y\", 11, scale=1e3, xlimits=limits, ax=axes[1])\n        axes[1].set_ylabel(\"Y [mm]\")\n        axes[1].set_xlabel(\"S [m]\")\n\n        for axis in axes:\n            axis.legend()\n            axis.set_ylim(-45, 45)\n            axis.yaxis.set_major_locator(plt.MaxNLocator(5))\n            draw_ip_locations(ips, ax=axis)\n\n        fig.suptitle(r\"LHC $\\beta^{\\ast} = 30$cm Optics\")\n        fig.align_ylabels(axes)\n\n        plt.tight_layout()\n        plt.show()"
      ]
    },
    {
      "cell_type": "markdown",
      "metadata": {},
      "source": [
        "If one wants to have a look at, say, coupling RDTs throughout the machine, for\nboth beams when applying the coupling knob:\n\n"
      ]
    },
    {
      "cell_type": "code",
      "execution_count": null,
      "metadata": {
        "collapsed": false
      },
      "outputs": [],
      "source": [
        "with lhc.LHCSetup(opticsfile=\"R2022a_A30cmC30cmA10mL200cm.madx\", stdout=False) as madx:\n    lhc.apply_lhc_colinearity_knob(madx, colinearity_knob_value=3, ir=5)\n    lhc.apply_lhc_coupling_knob(madx, coupling_knob=5e-3)\n    rdtsb1 = coupling.get_coupling_rdts(madx)\n\nwith lhc.LHCSetup(opticsfile=\"R2022a_A30cmC30cmA10mL200cm.madx\", beam=2, stdout=False) as madx:\n    lhc.apply_lhc_colinearity_knob(madx, colinearity_knob_value=3, ir=5)\n    lhc.apply_lhc_coupling_knob(madx, coupling_knob=5e-3, beam=2)\n    rdtsb2 = coupling.get_coupling_rdts(madx)\n\nipsb1 = get_lhc_ips_positions(rdtsb1)\nipsb2 = get_lhc_ips_positions(rdtsb2)\n\nwith plt.rc_context(_SPHINX_GALLERY_PARAMS):\n    fig, (b1, b2) = plt.subplots(nrows=2, ncols=1, sharex=True, figsize=(15, 10))\n    b1.plot(rdtsb1.S, rdtsb1.F1001.abs(), label=r\"$f_{1001}$\")\n    b1.plot(rdtsb1.S, rdtsb1.F1010.abs(), label=r\"$f_{1010}$\")\n    b1.set_title(\"Beam 1\")\n    draw_ip_locations(ipsb1, location=\"inside\", ax=b1)\n\n    b2.plot(rdtsb2.S, rdtsb2.F1001.abs(), label=r\"$f_{1001}$\")\n    b2.plot(rdtsb2.S, rdtsb2.F1010.abs(), label=r\"$f_{1010}$\")\n    draw_ip_locations(ipsb2, location=\"inside\", ax=b2)\n    b2.set_title(\"Beam 2\")\n    b2.set_xlabel(\"S [m]\")\n\n    for axis in (b1, b2):\n        axis.set_ylabel(\"|RDT|\")\n        axis.legend()\n    plt.show()"
      ]
    },
    {
      "cell_type": "markdown",
      "metadata": {},
      "source": [
        ".. admonition:: References\n\n   The use of the following functions, methods, classes and modules is shown\n   in this example:\n\n   - `~.cpymadtools.coupling`: `~.coupling.get_coupling_rdts`\n   - `~.cpymadtools.lhc`: `~.lhc.apply_lhc_colinearity_knob`, `~.lhc.apply_lhc_coupling_knob`, `~.lhc._setup.LHCSetup`, `~.lhc._setup.prepare_lhc_run3`\n   - `~.plotting.aperture`: `~.plotting.aperture.plot_physical_apertures`\n   - `~.plotting.envelope`: `~.plotting.envelope.plot_beam_envelope`\n   - `~.plotting.utils`:  `~.plotting.utils.draw_ip_locations`, `~.plotting.utils.get_lhc_ips_positions`\n\n"
      ]
    }
  ],
  "metadata": {
    "kernelspec": {
      "display_name": "Python 3",
      "language": "python",
      "name": "python3"
    },
    "language_info": {
      "codemirror_mode": {
        "name": "ipython",
        "version": 3
      },
      "file_extension": ".py",
      "mimetype": "text/x-python",
      "name": "python",
      "nbconvert_exporter": "python",
      "pygments_lexer": "ipython3",
      "version": "3.9.16"
    }
  },
  "nbformat": 4,
  "nbformat_minor": 0
}