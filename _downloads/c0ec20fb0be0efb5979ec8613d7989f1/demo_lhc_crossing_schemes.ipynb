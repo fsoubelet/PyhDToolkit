{
  "cells": [
    {
      "cell_type": "code",
      "execution_count": null,
      "metadata": {
        "collapsed": false
      },
      "outputs": [],
      "source": [
        "%matplotlib inline"
      ]
    },
    {
      "cell_type": "markdown",
      "metadata": {},
      "source": [
        "\n\n# LHC Crossing Schemes\n\nThis example shows how to use the `~.plotters.CrossingSchemePlotter.plot_two_lhc_ips_crossings` function\nto visualise the crossing schemes setup at the LHC IRs.\n\n<div class=\"alert alert-info\"><h4>Note</h4><p>This is very LHC-specific and will most likely not work with other machines.</p></div>\n"
      ]
    },
    {
      "cell_type": "code",
      "execution_count": null,
      "metadata": {
        "collapsed": false
      },
      "outputs": [],
      "source": [
        "import matplotlib\nimport matplotlib.pyplot as plt\nimport pandas as pd\n\nfrom cpymad.madx import Madx\n\nfrom pyhdtoolkit.cpymadtools import lhc\nfrom pyhdtoolkit.cpymadtools.plotters import CrossingSchemePlotter\nfrom pyhdtoolkit.utils import defaults\n\ndefaults.config_logger(level=\"warning\")"
      ]
    },
    {
      "cell_type": "markdown",
      "metadata": {},
      "source": [
        "Setup a simple LHC simulation in ``MAD-X``, with collision optics (at 7 TeV):\n\n"
      ]
    },
    {
      "cell_type": "code",
      "execution_count": null,
      "metadata": {
        "collapsed": false
      },
      "outputs": [],
      "source": [
        "madx = Madx(stdout=False)\nmadx.option(echo=False, warn=False)\nmadx.call(\"lhc/lhc_as-built.seq\")\nmadx.call(\"lhc/opticsfile.22\")  # collisions optics"
      ]
    },
    {
      "cell_type": "markdown",
      "metadata": {},
      "source": [
        "Let's re-cycle the sequences to avoid having IR1 split at beginning and end of lattice,\nas is the default in the LHC sequence:\n\n"
      ]
    },
    {
      "cell_type": "code",
      "execution_count": null,
      "metadata": {
        "collapsed": false
      },
      "outputs": [],
      "source": [
        "lhc.re_cycle_sequence(madx, sequence=\"lhcb1\", start=\"IP3\")\nlhc.make_lhc_beams(madx, energy=7000)\nmadx.command.use(sequence=\"lhcb1\")"
      ]
    },
    {
      "cell_type": "markdown",
      "metadata": {},
      "source": [
        "Now we plot the crossing schemes, here for IP1 and IP5.\n\n"
      ]
    },
    {
      "cell_type": "code",
      "execution_count": null,
      "metadata": {
        "collapsed": false
      },
      "outputs": [],
      "source": [
        "CrossingSchemePlotter.plot_two_lhc_ips_crossings(madx, first_ip=1, second_ip=5)\nplt.show()"
      ]
    },
    {
      "cell_type": "markdown",
      "metadata": {},
      "source": [
        "We can have a look at, say, IP2 and IP8 by simply changing the parameters, and\nfor instance also remove the highlighting of MQX and MBX elements:\n\n"
      ]
    },
    {
      "cell_type": "code",
      "execution_count": null,
      "metadata": {
        "collapsed": false
      },
      "outputs": [],
      "source": [
        "CrossingSchemePlotter.plot_two_lhc_ips_crossings(\n    madx, first_ip=2, second_ip=8, highlight_mqx_and_mbx=False\n)"
      ]
    },
    {
      "cell_type": "markdown",
      "metadata": {},
      "source": [
        "Let's not forget to close the rpc connection to ``MAD-X``:\n\n"
      ]
    },
    {
      "cell_type": "code",
      "execution_count": null,
      "metadata": {
        "collapsed": false
      },
      "outputs": [],
      "source": [
        "madx.exit()"
      ]
    },
    {
      "cell_type": "markdown",
      "metadata": {},
      "source": [
        ".. admonition:: References\n\n   The use of the following functions, methods, classes and modules is shown\n   in this example:\n\n   - `~.cpymadtools.lhc`: `~.lhc.make_lhc_beams`, `~.lhc.re_cycle_sequence`\n   - `~.cpymadtools.plotters`: `~.plotters.CrossingSchemePlotter`, `~.plotters.CrossingSchemePlotter.plot_two_lhc_ips_crossings`\n\n"
      ]
    }
  ],
  "metadata": {
    "kernelspec": {
      "display_name": "Python 3",
      "language": "python",
      "name": "python3"
    },
    "language_info": {
      "codemirror_mode": {
        "name": "ipython",
        "version": 3
      },
      "file_extension": ".py",
      "mimetype": "text/x-python",
      "name": "python",
      "nbconvert_exporter": "python",
      "pygments_lexer": "ipython3",
      "version": "3.7.12"
    }
  },
  "nbformat": 4,
  "nbformat_minor": 0
}