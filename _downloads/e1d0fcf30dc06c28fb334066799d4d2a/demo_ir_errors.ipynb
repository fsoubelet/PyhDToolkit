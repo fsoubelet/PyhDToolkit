{
  "cells": [
    {
      "cell_type": "code",
      "execution_count": null,
      "metadata": {
        "collapsed": false
      },
      "outputs": [],
      "source": [
        "%matplotlib inline"
      ]
    },
    {
      "cell_type": "markdown",
      "metadata": {},
      "source": [
        "\n\n# LHC IR Errors Assignments\n\nThis example shows how to use the `~.errors.misalign_lhc_ir_quadrupoles` function\nto assign magnet errors in the Insertion Region magnets of the LHC.\n\n<div class=\"alert alert-danger\"><h4>Warning</h4><p>The implementation of this function makes it valid only for LHC IP IRs, which are \n    1, 2, 5 and 8. Other IRs have different layouts that are incompatible.</p></div>\n"
      ]
    },
    {
      "cell_type": "code",
      "execution_count": null,
      "metadata": {
        "collapsed": false
      },
      "outputs": [],
      "source": [
        "import matplotlib.pyplot as plt\nimport numpy as np\n\nfrom cpymad.madx import Madx\n\nfrom pyhdtoolkit.cpymadtools import errors, lhc, matching\nfrom pyhdtoolkit.utils import defaults\n\ndefaults.config_logger(level=\"warning\")\nplt.rcParams.update(defaults._SPHINX_GALLERY_PARAMS)  # for readability of this tutorial"
      ]
    },
    {
      "cell_type": "markdown",
      "metadata": {},
      "source": [
        "Setup a simple LHC simulation in ``MAD-X``, at injection energy (450 GeV)\n\n"
      ]
    },
    {
      "cell_type": "code",
      "execution_count": null,
      "metadata": {
        "collapsed": false
      },
      "outputs": [],
      "source": [
        "madx = Madx(stdout=False)\nmadx.option(echo=False, warn=False)\n\nmadx.call(\"lhc/lhc_as-built.seq\")\nmadx.call(\"lhc/opticsfile.22\")  # collision optics"
      ]
    },
    {
      "cell_type": "markdown",
      "metadata": {},
      "source": [
        "Importantly in ``MAD-X``, when dealing with RNG one should set a generator and\nseed, which we do below:\n\n"
      ]
    },
    {
      "cell_type": "code",
      "execution_count": null,
      "metadata": {
        "collapsed": false
      },
      "outputs": [],
      "source": [
        "madx.option(rand=\"best\", randid=np.random.randint(1, 11))  # random number generator\nmadx.eoption(seed=np.random.randint(1, 999999999))  # not using default seed"
      ]
    },
    {
      "cell_type": "markdown",
      "metadata": {},
      "source": [
        "Let's define beams and use the **lhcb1** sequence.\n\n"
      ]
    },
    {
      "cell_type": "code",
      "execution_count": null,
      "metadata": {
        "collapsed": false
      },
      "outputs": [],
      "source": [
        "lhc.make_lhc_beams(madx, energy=7000)\nmadx.command.use(sequence=\"lhcb1\")"
      ]
    },
    {
      "cell_type": "markdown",
      "metadata": {},
      "source": [
        "We can now install errors in the IR quadrupoles. Note that this function accepts\nkeyword arguments for the error definition, and any *kwarg* will be passed to the\n``EALIGN`` command of ``MAD-X``.\n\nHere let's apply systematic horizontal misalignment errors and tilt errors to the\nquadrupoles Q1 to Q6 (first to sixth) on both sides of IP1:\n\n"
      ]
    },
    {
      "cell_type": "code",
      "execution_count": null,
      "metadata": {
        "collapsed": false
      },
      "outputs": [],
      "source": [
        "errors.misalign_lhc_ir_quadrupoles(\n    madx,\n    ips=[1],\n    beam=1,\n    quadrupoles=[1, 2, 3, 4, 5, 6],\n    sides=\"RL\",\n    dx=\"0.001*TGAUSS(2.5)\",\n    dpsi=\"0.003*GAUSS(2.5)\",\n)"
      ]
    },
    {
      "cell_type": "markdown",
      "metadata": {},
      "source": [
        "Let's match to our working point, and retrieve the errors directly through the\ninternal ``MAD-X`` tables through `~cpymad`:\n\n"
      ]
    },
    {
      "cell_type": "code",
      "execution_count": null,
      "metadata": {
        "collapsed": false
      },
      "outputs": [],
      "source": [
        "madx.command.use(sequence=\"lhcb1\")\nmatching.match_tunes_and_chromaticities(madx, \"lhc\", \"lhcb1\", 62.31, 60.32, 2.0, 2.0)\nerror_table = madx.table.ir_quads_errors.dframe().copy()"
      ]
    },
    {
      "cell_type": "markdown",
      "metadata": {},
      "source": [
        "Let's quickly re-arrange the resulting `~pandas.DataFrame` to align with the\norder in which they are in the machine:\n\n"
      ]
    },
    {
      "cell_type": "code",
      "execution_count": null,
      "metadata": {
        "collapsed": false
      },
      "outputs": [],
      "source": [
        "error_table.name = error_table.name.apply(lambda x: x[:-2])\nerror_table = error_table.set_index(\"name\", drop=True)\nerror_table = error_table[[\"dx\", \"dy\", \"dpsi\", \"dtheta\"]]  # only keep those\nerror_table = error_table.reindex(  # their order in the machine\n    [\n        \"mqml.6l1.b1\",\n        \"mqml.5l1.b1\",\n        \"mqy.4l1.b1\",\n        \"mqxa.3l1\",\n        \"mqxb.b2l1\",\n        \"mqxb.a2l1\",\n        \"mqxa.1l1\",\n        \"mqxa.1r1\",\n        \"mqxb.a2r1\",\n        \"mqxb.b2r1\",\n        \"mqxa.3r1\",\n        \"mqy.4r1.b1\",\n        \"mqml.5r1.b1\",\n        \"mqml.6r1.b1\",\n    ]\n)\nerror_table"
      ]
    },
    {
      "cell_type": "markdown",
      "metadata": {},
      "source": [
        "We can also check that all these elements have been correctly affected:\n\n"
      ]
    },
    {
      "cell_type": "code",
      "execution_count": null,
      "metadata": {
        "collapsed": false
      },
      "outputs": [],
      "source": [
        "assert all(error_table[\"dx\"] != 0)\nassert all(error_table[\"dpsi\"] != 0)"
      ]
    },
    {
      "cell_type": "markdown",
      "metadata": {},
      "source": [
        "We can visualise the distribution of errors across these magnets with a bar\nchart, making use of the `~pandas.DataFrame` plotting capabilities:\n\n"
      ]
    },
    {
      "cell_type": "code",
      "execution_count": null,
      "metadata": {
        "collapsed": false
      },
      "outputs": [],
      "source": [
        "axes = error_table.plot(\n    y=[\"dx\", \"dpsi\"],\n    kind=\"bar\",\n    title=\"Applied Errors\",\n    xlabel=\"Magnet Name\",\n    figsize=(20, 11),\n    subplots=True,\n    rot=45,\n)\n\naxes[0].set_title(\"\")\naxes[0].set_ylabel(\"dx [m]\")\naxes[1].set_title(\"\")\naxes[1].set_ylabel(\"dpsi [rad]\")\nplt.show()"
      ]
    },
    {
      "cell_type": "markdown",
      "metadata": {},
      "source": [
        "Let's not forget to close the rpc connection to ``MAD-X``:\n\n"
      ]
    },
    {
      "cell_type": "code",
      "execution_count": null,
      "metadata": {
        "collapsed": false
      },
      "outputs": [],
      "source": [
        "madx.exit()"
      ]
    },
    {
      "cell_type": "markdown",
      "metadata": {},
      "source": [
        ".. admonition:: References\n\n   The use of the following functions, methods, classes and modules is shown\n   in this example:\n\n   = `~cpymadtools.errors`: ~cpymadtools.errors.misalign_lhc_ir_quadrupoles`\n   - `~.cpymadtools.lhc`: `~.lhc.make_lhc_beams`\n   - `~.cpymadtools.matching`: `~.matching.match_tunes_and_chromaticities`\n\n"
      ]
    }
  ],
  "metadata": {
    "kernelspec": {
      "display_name": "Python 3",
      "language": "python",
      "name": "python3"
    },
    "language_info": {
      "codemirror_mode": {
        "name": "ipython",
        "version": 3
      },
      "file_extension": ".py",
      "mimetype": "text/x-python",
      "name": "python",
      "nbconvert_exporter": "python",
      "pygments_lexer": "ipython3",
      "version": "3.9.13"
    }
  },
  "nbformat": 4,
  "nbformat_minor": 0
}