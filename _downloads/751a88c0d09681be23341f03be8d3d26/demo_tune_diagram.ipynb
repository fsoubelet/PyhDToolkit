{
  "cells": [
    {
      "cell_type": "code",
      "execution_count": null,
      "metadata": {
        "collapsed": false
      },
      "outputs": [],
      "source": [
        "%matplotlib inline"
      ]
    },
    {
      "cell_type": "markdown",
      "metadata": {},
      "source": [
        "\n\n# Tune Diagram\n\nThis example shows how to use the `~.plotters.TuneDiagramPlotter.plot_tune_diagram` function \nto visualise resonance lines up to certain orders.\n"
      ]
    },
    {
      "cell_type": "code",
      "execution_count": null,
      "metadata": {
        "collapsed": false
      },
      "outputs": [],
      "source": [
        "import matplotlib.pyplot as plt\n\nfrom pyhdtoolkit.cpymadtools.plotters import TuneDiagramPlotter\nfrom pyhdtoolkit.utils import defaults\n\ndefaults.config_logger(level=\"warning\")"
      ]
    },
    {
      "cell_type": "markdown",
      "metadata": {},
      "source": [
        "The tune diagram allows on to visualise resonance lines up to certain orders,\nand to know where the working point of the machine stands compared to these resonances\nBy default, the `~pyhdtoolkit.cpymadtools.plotters.TuneDiagramPlotter.plot_tune_diagram`\nfunction will plot all resonance lines up to the specified order, with line thickness\ndecreasing with the resonance order. The max order is set 6, as the graph becomes unreadable\nabove this value.\n\n"
      ]
    },
    {
      "cell_type": "code",
      "execution_count": null,
      "metadata": {
        "collapsed": false
      },
      "outputs": [],
      "source": [
        "TuneDiagramPlotter.plot_tune_diagram(max_order=5)\nplt.show()"
      ]
    },
    {
      "cell_type": "markdown",
      "metadata": {},
      "source": [
        "One can add their machine's working point onto the figure with a new matplotlib\nplotting command. The graph is limited to the ranges [0, 1] on each axis as the\nfractional part of the tunes is what determines stability.\n\n.. tip::\n    Remember that when thinking about tunes, only the fractional part is relevant\n    when determining the stability. As so, plot that value onto the graph, or it would\n    be way out of range\n\n"
      ]
    },
    {
      "cell_type": "code",
      "execution_count": null,
      "metadata": {
        "collapsed": false
      },
      "outputs": [],
      "source": [
        "TuneDiagramPlotter.plot_tune_diagram(max_order=5)\nplt.scatter(0.35, 0.29, marker=\"o\", color=\"red\")  # this is close to a third order resonance\nplt.show()"
      ]
    },
    {
      "cell_type": "markdown",
      "metadata": {},
      "source": [
        "On the previous plot, it is not obvious that our working point is close to a\n*third* order resonance. One may then want to differentiate the origin of each\nline, aka knowing which resonance order is responsible for each given line. This\nmakes it easier to see the resonances near your working point.\n\n"
      ]
    },
    {
      "cell_type": "code",
      "execution_count": null,
      "metadata": {
        "collapsed": false
      },
      "outputs": [],
      "source": [
        "TuneDiagramPlotter.plot_tune_diagram(\n    max_order=6,\n    differentiate_orders=True,  # different orders will have a different color and linestyle\n    legend_title=\"Resonance Lines\",  # if given, legend is added to figure\n)\nplt.scatter(0.35, 0.29, marker=\"o\", color=\"m\")  # this is close to a third order resonance\nplt.xlim(0, 0.5)  # limit the x-axis to the range [0, 0.5] for visibility\nplt.ylim(0, 0.5)  # limit the y-axis to the range [0, 0.5] for visibility\nplt.show()"
      ]
    },
    {
      "cell_type": "markdown",
      "metadata": {},
      "source": [
        "It is now much easier to identify the resonances lines near our working point :)\n\n"
      ]
    },
    {
      "cell_type": "markdown",
      "metadata": {},
      "source": [
        ".. admonition:: References\n\n   The use of the following functions, methods, classes and modules is shown\n   in this example:\n\n   - `~.cpymadtools.plotters.TuneDiagramPlotter`: `~.plotters.TuneDiagramPlotter.plot_tune_diagram`\n\n"
      ]
    }
  ],
  "metadata": {
    "kernelspec": {
      "display_name": "Python 3",
      "language": "python",
      "name": "python3"
    },
    "language_info": {
      "codemirror_mode": {
        "name": "ipython",
        "version": 3
      },
      "file_extension": ".py",
      "mimetype": "text/x-python",
      "name": "python",
      "nbconvert_exporter": "python",
      "pygments_lexer": "ipython3",
      "version": "3.7.12"
    }
  },
  "nbformat": 4,
  "nbformat_minor": 0
}