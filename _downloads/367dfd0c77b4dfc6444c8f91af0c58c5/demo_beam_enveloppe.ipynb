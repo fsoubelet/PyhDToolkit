{
  "cells": [
    {
      "cell_type": "markdown",
      "metadata": {},
      "source": [
        "\n\n# Beam Enveloppe\n\nThis example shows how to use the `~.plotting.envelope.plot_envelope` function\nto visualise the particle beam's enveloppe in your machine.\n\nIn this example we will use a very simple lattice, hard-coded below.\n"
      ]
    },
    {
      "cell_type": "code",
      "execution_count": null,
      "metadata": {
        "collapsed": false
      },
      "outputs": [],
      "source": [
        "import matplotlib.pyplot as plt\nimport numpy as np\n\nfrom cpymad.madx import Madx\n\nfrom pyhdtoolkit.plotting.envelope import plot_beam_envelope\nfrom pyhdtoolkit.plotting.styles import _SPHINX_GALLERY_PARAMS\nfrom pyhdtoolkit.utils import logging\n\nlogging.config_logger(level=\"error\")\nplt.rcParams.update(_SPHINX_GALLERY_PARAMS)  # for readability of this tutorial"
      ]
    },
    {
      "cell_type": "markdown",
      "metadata": {},
      "source": [
        "Define relevant constants.\n\n"
      ]
    },
    {
      "cell_type": "code",
      "execution_count": null,
      "metadata": {
        "collapsed": false
      },
      "outputs": [],
      "source": [
        "pc_GeV = 19  # Beam momentum [GeV]\nB_rho_Tm = pc_GeV / 0.3  # Magnetic rigidity [Tm]\nE_0_GeV = 0.9382720813  # proton rest mass [GeV]\nE_tot_GeV = np.sqrt(pc_GeV**2 + E_0_GeV**2)\n\ncircumference = 500.0  # machine circumference [m]\nn_cells = 25\nl_quad = 0.5  # quadrupole length [m]\nl_bend = 3.5  # dipole length [m]\nl_cell = circumference / n_cells  # cell length [m]\n\nf_m = l_cell / (2 * np.sqrt(2))  # pi/2 phase advance in thin lens approximation (no dipoles)\n\nn_quadrupoles = 2 * n_cells\nn_dipoles = 4 * n_cells  # four dipoles per cell\ndipole_angle = 2 * np.pi / n_dipoles  # [rad]\ndipole_field = dipole_angle * B_rho_Tm / l_bend  # [T]\nquadrupole_gradient = 1 / f_m * B_rho_Tm / l_quad  # [T/m]\n\nr_quadrupole = 0.065  # [m]\nv_gap_dipole = 0.065  # [m]\nh_gap_dipole = 0.09  # [m]"
      ]
    },
    {
      "cell_type": "markdown",
      "metadata": {},
      "source": [
        "Now let's setup ``MAD-X`` and input a very simple lattice.\n\n"
      ]
    },
    {
      "cell_type": "code",
      "execution_count": null,
      "metadata": {
        "collapsed": false
      },
      "outputs": [],
      "source": [
        "madx = Madx(stdout=False)\nmadx.input(\n    f\"\"\"\ncircum = {circumference};\nn_cells = {n_cells}; ! Number of cells\nlcell = {l_cell};\nlq = {l_quad}; ! Length of a quadrupole\nldip = {l_bend};\n\n! ELEMENT DEFINITIONS\n! Define bending magnet as multipole, we have 4 bending magnets per cell\n!mb:multipole, knl={{2.0*pi/(4*n_cells)}};\n\nmb: sbend, l=ldip, angle=2.0*pi/(4*n_cells), apertype=ellipse, aperture={{{h_gap_dipole}, {v_gap_dipole}}};\nf = {f_m};\n\n! Define quadrupoles as multipoles\nqf: multipole, knl:={{0,1/f+qtrim_f}};\nqd: multipole, knl:={{0,-1/f+qtrim_d}};\nqf: quadrupole, l=lq, K1:=1/f/lq  + qtrim_f/lq, apertype=ellipse, aperture={{{r_quadrupole}, {r_quadrupole}}};\nqd: quadrupole, l=lq, K1:=-1/f/lq + qtrim_d/lq, apertype=ellipse, aperture={{{r_quadrupole}, {r_quadrupole}}};\n\n! Define the sextupoles as multipole\n! ATTENTION: must use knl:= and NOT knl= to match later!\nlsex = 0.00001; ! dummy length, only used in the sequence\nmsf: multipole, knl:={{0,0,ksf}};\nmsd: multipole, knl:={{0,0,ksd}};\n\n! SEQUENCE DECLARATION\n! Switch off the warning to limit outputs (use this option with moderation)\noption, warn=false;\ncas19: sequence, refer=centre, l=circum;\n   start_machine: marker, at = 0;\n   n = 1;\n   while (n < n_cells+1) {{\n    qf: qf,   at=(n-1)*lcell+ lq/2.0;\n    msf: msf, at=(n-1)*lcell + lsex/2.0+lq/1.0;\n    mb: mb,   at=(n-1)*lcell + 0.15*lcell;\n    mb: mb,   at=(n-1)*lcell + 0.35*lcell;\n    qd: qd,   at=(n-1)*lcell + 0.50*lcell+ lq/2.0;\n    msd: msd, at=(n-1)*lcell + 0.50*lcell + lsex/2.0+lq/1.0;\n    mb: mb,   at=(n-1)*lcell + 0.65*lcell;\n    mb: mb,   at=(n-1)*lcell + 0.85*lcell;\n    n = n + 1;\n}}\nend_machine: marker at=circum;\nendsequence;\noption, warn=true;\n\n! DEFINE BEAM PARAMETERS AND PROPERTIES\nbeam, particle=proton, sequence=cas19, energy={E_tot_GeV}, exn=5e-6, eyn=5e-6, sige=5e-6;\nuse, sequence=cas19;\nselect, flag=twiss, column=apertype, aper_1, aper_2;\n\nksf=0;\nksd=0;\ntwiss;\n\"\"\"\n)"
      ]
    },
    {
      "cell_type": "markdown",
      "metadata": {},
      "source": [
        "Now let's run an interpolation to be able to see the value of the optics functions\ninside the elements, this gives us higher resolution:\n\n"
      ]
    },
    {
      "cell_type": "code",
      "execution_count": null,
      "metadata": {
        "collapsed": false
      },
      "outputs": [],
      "source": [
        "madx.command.select(flag=\"interpolate\", class_=\"drift\", slice_=4, range_=\"#s/#e\")\nmadx.command.select(flag=\"interpolate\", class_=\"quadrupole\", slice_=8, range_=\"#s/#e\")\nmadx.command.select(flag=\"interpolate\", class_=\"sbend\", slice_=10, range_=\"#s/#e\")\nmadx.command.twiss()"
      ]
    },
    {
      "cell_type": "markdown",
      "metadata": {},
      "source": [
        "We can now plot the beam enveloppe for the whole machine. Here notice we use\nthe *scale* argument to convert the units to mm, this makes for nicer yticks\nvalues:\n\n"
      ]
    },
    {
      "cell_type": "code",
      "execution_count": null,
      "metadata": {
        "collapsed": false
      },
      "outputs": [],
      "source": [
        "figure, axes = plt.subplots(2, 1, sharex=True, figsize=(16, 11))\n\n# First let's plot 1 sigma and 2.5 sigma horizontal enveloppes\nplot_beam_envelope(madx, \"cas19\", \"x\", nsigma=1, scale=1e3, ax=axes[0])\nplot_beam_envelope(madx, \"cas19\", \"horizontal\", nsigma=2.5, scale=1e3, ax=axes[0])\nplt.setp(axes[0], ylabel=\"X [mm]\")\naxes[0].legend()\n\n# Then plot 1 sigma and 2.5 sigma vertical enveloppes\nplot_beam_envelope(madx, \"cas19\", \"y\", nsigma=1, scale=1e3, ax=axes[1])\nplot_beam_envelope(madx, \"cas19\", \"vertical\", nsigma=2.5, scale=1e3, ax=axes[1])\nplt.setp(axes[1], xlabel=\"S [m]\", ylabel=\"Y [mm]\")\naxes[1].legend()\n\nplt.show()"
      ]
    },
    {
      "cell_type": "markdown",
      "metadata": {},
      "source": [
        "Notice how the shading automatically adapts based on the *nsigma* argument.\nIn order to have a look at the enveloppe in a specific region, we can give the\n*xlimits* argument. Here we will plot the horizontal enveloppe for the first\n5 cells only.\n\n"
      ]
    },
    {
      "cell_type": "code",
      "execution_count": null,
      "metadata": {
        "collapsed": false
      },
      "outputs": [],
      "source": [
        "fig, ax = plt.subplots(figsize=(16, 9))\nplot_beam_envelope(madx, \"cas19\", \"x\", nsigma=1, scale=1e3, xlimits=(0, 5 * l_cell))\nplot_beam_envelope(madx, \"cas19\", \"x\", nsigma=2.5, scale=1e3, xlimits=(0, 5 * l_cell))\nplt.setp(ax, xlabel=\"S [m]\", ylabel=\"X [mm]\", title=\"First 5 Cells Horizontal Enveloppe\")\nax.legend()\nplt.show()"
      ]
    },
    {
      "cell_type": "markdown",
      "metadata": {},
      "source": [
        "Let's not forget to close the rpc connection to ``MAD-X``:\n\n"
      ]
    },
    {
      "cell_type": "code",
      "execution_count": null,
      "metadata": {
        "collapsed": false
      },
      "outputs": [],
      "source": [
        "madx.exit()"
      ]
    },
    {
      "cell_type": "markdown",
      "metadata": {},
      "source": [
        ".. admonition:: References\n\n   The use of the following functions, methods, classes and modules is shown\n   in this example:\n\n   - `~.plotting.envelope`: `~.plotting.envelope.plot_beam_envelope`\n\n"
      ]
    }
  ],
  "metadata": {
    "kernelspec": {
      "display_name": "Python 3",
      "language": "python",
      "name": "python3"
    },
    "language_info": {
      "codemirror_mode": {
        "name": "ipython",
        "version": 3
      },
      "file_extension": ".py",
      "mimetype": "text/x-python",
      "name": "python",
      "nbconvert_exporter": "python",
      "pygments_lexer": "ipython3",
      "version": "3.12.7"
    }
  },
  "nbformat": 4,
  "nbformat_minor": 0
}