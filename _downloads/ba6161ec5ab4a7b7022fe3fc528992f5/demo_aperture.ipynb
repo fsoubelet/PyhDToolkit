{
  "cells": [
    {
      "cell_type": "code",
      "execution_count": null,
      "metadata": {
        "collapsed": false
      },
      "outputs": [],
      "source": [
        "%matplotlib inline"
      ]
    },
    {
      "cell_type": "markdown",
      "metadata": {},
      "source": [
        "\n\n# Accelerator Aperture\n\nThis example shows how to use the `~.plotters.AperturePlotter.plot_aperture` function\nto visualise the available aperture in your machine, with the LHC for example.\n"
      ]
    },
    {
      "cell_type": "code",
      "execution_count": null,
      "metadata": {
        "collapsed": false
      },
      "outputs": [],
      "source": [
        "import matplotlib.pyplot as plt\n\nfrom cpymad.madx import Madx\n\nfrom pyhdtoolkit.cpymadtools import lhc\nfrom pyhdtoolkit.cpymadtools.plotters import AperturePlotter\nfrom pyhdtoolkit.utils import defaults\n\ndefaults.config_logger(level=\"warning\")\nplt.rcParams.update(defaults._SPHINX_GALLERY_PARAMS)  # for readability of this tutorial"
      ]
    },
    {
      "cell_type": "markdown",
      "metadata": {},
      "source": [
        "Setup a simple LHC simulation in ``MAD-X``, at injection energy (450 GeV)\n\n"
      ]
    },
    {
      "cell_type": "code",
      "execution_count": null,
      "metadata": {
        "collapsed": false
      },
      "outputs": [],
      "source": [
        "madx = Madx(stdout=False)\nmadx.option(echo=False, warn=False)\n\nmadx.call(\"lhc/lhc_as-built.seq\")\nmadx.call(\"lhc/opticsfile.1\")  # injection optics\n\nlhc.make_lhc_beams(madx, energy=450)\nmadx.command.use(sequence=\"lhcb1\")"
      ]
    },
    {
      "cell_type": "markdown",
      "metadata": {},
      "source": [
        "We now call the aperture definitions and tolerances, then task ``MAD-X`` with\ncomputing the available aperture:\n\n"
      ]
    },
    {
      "cell_type": "code",
      "execution_count": null,
      "metadata": {
        "collapsed": false
      },
      "outputs": [],
      "source": [
        "madx.call(\"lhc/aperture.b1.madx\")\nmadx.call(\"lhc/aper_tol.b1.madx\")\n\nmadx.command.twiss()\nmadx.command.aperture(\n    cor=0.002, dp=8.6e-4, halo=\"{6,6,6,6}\", bbeat=1.05, dparx=0.14, dpary=0.14\n)"
      ]
    },
    {
      "cell_type": "markdown",
      "metadata": {},
      "source": [
        "We can now determine the exact position of the IP5 point and plot the LHC\ninjection aperture:\n\n"
      ]
    },
    {
      "cell_type": "code",
      "execution_count": null,
      "metadata": {
        "collapsed": false
      },
      "outputs": [],
      "source": [
        "twiss_df = madx.table.twiss.dframe().copy()\nip5s = twiss_df.s[twiss_df.name.str.contains(\"ip5\")].to_numpy()[0]\n\nir5_aperture_collision = AperturePlotter.plot_aperture(\n    madx,\n    title=\"IR5, Collision Optics Aperture Tolerance\",\n    plot_bpms=True,\n    xlimits=(ip5s - 80, ip5s + 80),\n    aperture_ylim=(0, 20),\n    k0l_lim=(-4e-4, 4e-4),\n    color=\"darkslateblue\",\n)\nfor axis in ir5_aperture_collision.axes:\n    axis.axvline(x=ip5s, color=\"red\", ls=\"--\", lw=1.5, label=\"IP5\")\nir5_aperture_collision.gca().legend()\nplt.show()"
      ]
    },
    {
      "cell_type": "markdown",
      "metadata": {},
      "source": [
        "Let's not forget to close the rpc connection to ``MAD-X``:\n\n"
      ]
    },
    {
      "cell_type": "code",
      "execution_count": null,
      "metadata": {
        "collapsed": false
      },
      "outputs": [],
      "source": [
        "madx.exit()"
      ]
    },
    {
      "cell_type": "markdown",
      "metadata": {},
      "source": [
        ".. admonition:: References\n\n   The use of the following functions, methods, classes and modules is shown\n   in this example:\n\n   - `~.cpymadtools.lhc`: `~.lhc.make_lhc_beams`\n   - `~.cpymadtools.plotters`: `~.plotters.AperturePlotter`, `~.plotters.AperturePlotter.plot_aperture`\n\n"
      ]
    }
  ],
  "metadata": {
    "kernelspec": {
      "display_name": "Python 3",
      "language": "python",
      "name": "python3"
    },
    "language_info": {
      "codemirror_mode": {
        "name": "ipython",
        "version": 3
      },
      "file_extension": ".py",
      "mimetype": "text/x-python",
      "name": "python",
      "nbconvert_exporter": "python",
      "pygments_lexer": "ipython3",
      "version": "3.7.13"
    }
  },
  "nbformat": 4,
  "nbformat_minor": 0
}