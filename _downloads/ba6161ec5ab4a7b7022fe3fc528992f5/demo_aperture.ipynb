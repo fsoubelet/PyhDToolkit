{
  "cells": [
    {
      "cell_type": "markdown",
      "metadata": {},
      "source": [
        "\n\n# Accelerator Aperture\n\nThis example shows how to use the `~.plotting.aperture.plot_aperture` and\n`~.plotting.aperture.plot_physical_apertures` functions to visualise the\navailable aperture in your machine, with the LHC used for this example.\n\n.. important::\n    This example requires the `acc-models-lhc` repository to be cloned locally. One\n    can get it by running the following command:\n\n```bash\ngit clone -b 2022 https://gitlab.cern.ch/acc-models/acc-models-lhc.git --depth 1\n```\n    Here I set the 2022 branch for stability and reproducibility of the documentation\n    builds, but you can use any branch you want.\n"
      ]
    },
    {
      "cell_type": "code",
      "execution_count": null,
      "metadata": {
        "collapsed": false
      },
      "outputs": [],
      "source": [
        "import matplotlib.pyplot as plt\n\nfrom cpymad.madx import Madx\n\nfrom pyhdtoolkit.cpymadtools import lhc\nfrom pyhdtoolkit.plotting.aperture import plot_aperture, plot_physical_apertures\nfrom pyhdtoolkit.plotting.styles import _SPHINX_GALLERY_PARAMS\nfrom pyhdtoolkit.utils import logging\n\nlogging.config_logger(level=\"error\")\nplt.rcParams.update(_SPHINX_GALLERY_PARAMS)  # for readability of this tutorial"
      ]
    },
    {
      "cell_type": "markdown",
      "metadata": {},
      "source": [
        "Let's start by setting up the LHC in ``MAD-X``, in this case at injection\noptics and energy. To understand the function below have a look at the\n`lhc setup example <demo-lhc-setup>`.\n\n"
      ]
    },
    {
      "cell_type": "code",
      "execution_count": null,
      "metadata": {
        "collapsed": false
      },
      "outputs": [],
      "source": [
        "madx: Madx = lhc.prepare_lhc_run3(\n    opticsfile=\"acc-models-lhc/operation/optics/R2022a_A11mC11mA10mL10m.madx\",\n    energy=450,  # given in GeV\n    stdout=False,\n)"
      ]
    },
    {
      "cell_type": "markdown",
      "metadata": {},
      "source": [
        "We now call the aperture definitions and tolerances, then task ``MAD-X`` with\ncomputing the available aperture:\n\n"
      ]
    },
    {
      "cell_type": "code",
      "execution_count": null,
      "metadata": {
        "collapsed": false
      },
      "outputs": [],
      "source": [
        "madx.call(\"lhc/aperture.b1.madx\")\nmadx.call(\"lhc/aper_tol.b1.madx\")\n\nmadx.command.twiss()\nmadx.command.aperture(\n    cor=0.002, dp=8.6e-4, halo=\"{6,6,6,6}\", bbeat=1.05, dparx=0.14, dpary=0.14\n)"
      ]
    },
    {
      "cell_type": "markdown",
      "metadata": {},
      "source": [
        "The details for the ``MAD-X`` ``aperture`` command can be found in the manual.\nWe can now determine the exact position of the IP5 point and plot the LHC\ninjection aperture:\n\n"
      ]
    },
    {
      "cell_type": "code",
      "execution_count": null,
      "metadata": {
        "collapsed": false
      },
      "outputs": [],
      "source": [
        "twiss_df = madx.table.twiss.dframe()\nip5s = twiss_df.s[twiss_df.name.str.contains(\"ip5\")].to_numpy()[0]"
      ]
    },
    {
      "cell_type": "markdown",
      "metadata": {},
      "source": [
        "And now we can plot the aperture around IP5 with the `~.plotting.aperture.plot_aperture`\nfunction. This uses the values in the ``APERTURE`` table of ``MAD-X``, which\ngives aperture information in terms of beam sigma.\n\n"
      ]
    },
    {
      "cell_type": "code",
      "execution_count": null,
      "metadata": {
        "collapsed": false
      },
      "outputs": [],
      "source": [
        "plt.figure(figsize=(20, 13))\nplot_aperture(\n    madx,\n    title=\"IR5, Collision Optics - Beam 1 Aperture Tolerance\",\n    plot_bpms=True,\n    xlimits=(ip5s - 80, ip5s + 80),\n    aperture_ylim=(0, 30),\n    k0l_lim=(-4e-4, 4e-4),\n    k1l_lim=(-0.08, 0.08),\n    color=\"darkslateblue\",\n)\nfor axis in plt.gcf().get_axes():\n    axis.axvline(x=ip5s, color=\"red\", ls=\"--\", lw=1.5, label=\"IP5\")\nplt.gca().legend()\nplt.show()"
      ]
    },
    {
      "cell_type": "markdown",
      "metadata": {},
      "source": [
        "We can also go for a different type of aperture plot, which tries to give\nthe elements' real physical apertures, with the `~.plotting.aperture.plot_physical_apertures`\nfunction:\n\n"
      ]
    },
    {
      "cell_type": "code",
      "execution_count": null,
      "metadata": {
        "collapsed": false
      },
      "outputs": [],
      "source": [
        "plt.figure(figsize=(18, 10))\nplot_physical_apertures(madx, plane=\"x\")\nplt.setp(plt.gca(), xlabel=\"S [m]\", ylabel=\"X [m]\")\nplt.ylim(-0.035, 0.035)\nplt.show()"
      ]
    },
    {
      "cell_type": "markdown",
      "metadata": {},
      "source": [
        "We can give a ``scale`` argument to change the scale of the Y-axis. Let's make\nit in centimeters here:\n\n"
      ]
    },
    {
      "cell_type": "code",
      "execution_count": null,
      "metadata": {
        "collapsed": false
      },
      "outputs": [],
      "source": [
        "plt.figure(figsize=(18, 10))\nplot_physical_apertures(madx, plane=\"x\", scale=1e2)  # just give the scaling factor\nplt.setp(plt.gca(), xlabel=\"S [m]\", ylabel=\"Y [cm]\")\nplt.ylim(-4, 4)\nplt.xlim(9000, 11_000)\nplt.show()"
      ]
    },
    {
      "cell_type": "markdown",
      "metadata": {},
      "source": [
        "Let's not forget to close the rpc connection to ``MAD-X``:\n\n"
      ]
    },
    {
      "cell_type": "code",
      "execution_count": null,
      "metadata": {
        "collapsed": false
      },
      "outputs": [],
      "source": [
        "madx.exit()"
      ]
    },
    {
      "cell_type": "markdown",
      "metadata": {},
      "source": [
        ".. admonition:: References\n\n   The use of the following functions, methods, classes and modules is shown\n   in this example:\n\n   - `~.cpymadtools.lhc`: `~.lhc._setup.prepare_lhc_run3`\n   - `~.plotting.aperture`: `~.plotting.aperture.plot_aperture`, `~.plotting.aperture.plot_physical_apertures`\n\n"
      ]
    }
  ],
  "metadata": {
    "kernelspec": {
      "display_name": "Python 3",
      "language": "python",
      "name": "python3"
    },
    "language_info": {
      "codemirror_mode": {
        "name": "ipython",
        "version": 3
      },
      "file_extension": ".py",
      "mimetype": "text/x-python",
      "name": "python",
      "nbconvert_exporter": "python",
      "pygments_lexer": "ipython3",
      "version": "3.12.11"
    }
  },
  "nbformat": 4,
  "nbformat_minor": 0
}