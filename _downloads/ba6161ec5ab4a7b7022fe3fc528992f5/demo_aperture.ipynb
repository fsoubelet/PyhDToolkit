{
  "cells": [
    {
      "cell_type": "code",
      "execution_count": null,
      "metadata": {
        "collapsed": false
      },
      "outputs": [],
      "source": [
        "%matplotlib inline"
      ]
    },
    {
      "cell_type": "markdown",
      "metadata": {},
      "source": [
        "\n\n# Accelerator Aperture\n\nThis example shows how to use the `~.plotting.aperture.plot_aperture` function\nto visualise the available aperture in your machine, with the LHC for example.\n"
      ]
    },
    {
      "cell_type": "code",
      "execution_count": null,
      "metadata": {
        "collapsed": false
      },
      "outputs": [],
      "source": [
        "import matplotlib.pyplot as plt\n\nfrom cpymad.madx import Madx\n\nfrom pyhdtoolkit.cpymadtools import lhc\nfrom pyhdtoolkit.plotting.aperture import plot_aperture\nfrom pyhdtoolkit.plotting.styles import _SPHINX_GALLERY_PARAMS\nfrom pyhdtoolkit.utils import logging\n\nlogging.config_logger(level=\"warning\")\nplt.rcParams.update(_SPHINX_GALLERY_PARAMS)  # for readability of this tutorial"
      ]
    },
    {
      "cell_type": "markdown",
      "metadata": {},
      "source": [
        "Setup a simple LHC simulation in ``MAD-X``, at injection energy (450 GeV)\n\n"
      ]
    },
    {
      "cell_type": "code",
      "execution_count": null,
      "metadata": {
        "collapsed": false
      },
      "outputs": [],
      "source": [
        "madx = Madx(stdout=False)\nmadx.option(echo=False, warn=False)\n\nmadx.call(\"lhc/lhc_as-built.seq\")\nmadx.call(\"lhc/opticsfile.1\")  # injection optics\n\nlhc.make_lhc_beams(madx, energy=450)\nmadx.command.use(sequence=\"lhcb1\")"
      ]
    },
    {
      "cell_type": "markdown",
      "metadata": {},
      "source": [
        "We now call the aperture definitions and tolerances, then task ``MAD-X`` with\ncomputing the available aperture:\n\n"
      ]
    },
    {
      "cell_type": "code",
      "execution_count": null,
      "metadata": {
        "collapsed": false
      },
      "outputs": [],
      "source": [
        "madx.call(\"lhc/aperture.b1.madx\")\nmadx.call(\"lhc/aper_tol.b1.madx\")\n\nmadx.command.twiss()\nmadx.command.aperture(\n    cor=0.002, dp=8.6e-4, halo=\"{6,6,6,6}\", bbeat=1.05, dparx=0.14, dpary=0.14\n)"
      ]
    },
    {
      "cell_type": "markdown",
      "metadata": {},
      "source": [
        "We can now determine the exact position of the IP5 point and plot the LHC\ninjection aperture:\n\n"
      ]
    },
    {
      "cell_type": "code",
      "execution_count": null,
      "metadata": {
        "collapsed": false
      },
      "outputs": [],
      "source": [
        "twiss_df = madx.table.twiss.dframe().copy()\nip5s = twiss_df.s[twiss_df.name.str.contains(\"ip5\")].to_numpy()[0]"
      ]
    },
    {
      "cell_type": "markdown",
      "metadata": {},
      "source": [
        "And now we can plot the aperture:\n\n"
      ]
    },
    {
      "cell_type": "code",
      "execution_count": null,
      "metadata": {
        "collapsed": false
      },
      "outputs": [],
      "source": [
        "plt.figure(figsize=(20, 13))\nplot_aperture(\n    madx,\n    title=\"IR5, Collision Optics - Beam 1 Aperture Tolerance\",\n    plot_bpms=True,\n    xlimits=(ip5s - 80, ip5s + 80),\n    aperture_ylim=(0, 25),\n    k0l_lim=(-4e-4, 4e-4),\n    k1l_lim=(-0.08, 0.08),\n    color=\"darkslateblue\",\n)\nfor axis in plt.gcf().get_axes():\n    axis.axvline(x=ip5s, color=\"red\", ls=\"--\", lw=1.5, label=\"IP5\")\nplt.gca().legend()\nplt.show()"
      ]
    },
    {
      "cell_type": "markdown",
      "metadata": {},
      "source": [
        "Let's not forget to close the rpc connection to ``MAD-X``:\n\n"
      ]
    },
    {
      "cell_type": "code",
      "execution_count": null,
      "metadata": {
        "collapsed": false
      },
      "outputs": [],
      "source": [
        "madx.exit()"
      ]
    },
    {
      "cell_type": "markdown",
      "metadata": {},
      "source": [
        ".. admonition:: References\n\n   The use of the following functions, methods, classes and modules is shown\n   in this example:\n\n   - `~.cpymadtools.lhc`: `~.lhc.make_lhc_beams`\n   - `~.plotting.aperture`: `~.plotting.aperture.plot_aperture`\n\n"
      ]
    }
  ],
  "metadata": {
    "kernelspec": {
      "display_name": "Python 3",
      "language": "python",
      "name": "python3"
    },
    "language_info": {
      "codemirror_mode": {
        "name": "ipython",
        "version": 3
      },
      "file_extension": ".py",
      "mimetype": "text/x-python",
      "name": "python",
      "nbconvert_exporter": "python",
      "pygments_lexer": "ipython3",
      "version": "3.9.14"
    }
  },
  "nbformat": 4,
  "nbformat_minor": 0
}