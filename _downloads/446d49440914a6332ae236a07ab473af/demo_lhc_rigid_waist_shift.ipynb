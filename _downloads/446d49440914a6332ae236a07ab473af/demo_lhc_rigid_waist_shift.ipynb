{
  "cells": [
    {
      "cell_type": "code",
      "execution_count": null,
      "metadata": {
        "collapsed": false
      },
      "outputs": [],
      "source": [
        "%matplotlib inline"
      ]
    },
    {
      "cell_type": "markdown",
      "metadata": {},
      "source": [
        "\n\n# LHC Rigid Waist Shift\n\nThis example shows how to use the `~.lhc.apply_lhc_rigidity_waist_shift_knob` \nfunction to force a waist shift at a given IP and break the symmetry of the \n$\\beta$-functions in the Interaction Region. This is done by \nover-powering one triplet and under-powering the other, by the same powering\ndelta.\n\nWe will do a comparison of the interaction region situation before and after \napplying a rigid waist shift, and look in more details at the waist shift \nitself.\n\n<div class=\"alert alert-info\"><h4>Note</h4><p>This is very specific to the LHC machine and the implementation would not \n    work on other accelerators.</p></div>\n"
      ]
    },
    {
      "cell_type": "code",
      "execution_count": null,
      "metadata": {
        "collapsed": false
      },
      "outputs": [],
      "source": [
        "import matplotlib.pyplot as plt\nimport numpy as np\nimport pandas as pd\n\nfrom cpymad.madx import Madx\n\nfrom pyhdtoolkit.cpymadtools import lhc, matching\nfrom pyhdtoolkit.cpymadtools.plotters import LatticePlotter\nfrom pyhdtoolkit.utils import _misc, defaults\n\ndefaults.config_logger(level=\"warning\")\nplt.rcParams.update(defaults._SPHINX_GALLERY_PARAMS)  # for readability of this tutorial"
      ]
    },
    {
      "cell_type": "markdown",
      "metadata": {},
      "source": [
        "## Showcasing the Waist Shift\nLet's start by setting up the LHC in ``MAD-X``, in this case at top energy:\n\n"
      ]
    },
    {
      "cell_type": "code",
      "execution_count": null,
      "metadata": {
        "collapsed": false
      },
      "outputs": [],
      "source": [
        "madx = Madx(stdout=False)\nmadx.call(\"lhc/lhc_as-built.seq\")\nmadx.call(\"lhc/opticsfile.22\")  # collision optics"
      ]
    },
    {
      "cell_type": "markdown",
      "metadata": {},
      "source": [
        "Let's re-cycle the sequences to avoid having IR1 split at beginning and end of lattice,\nas is the default in the LHC sequence:\n\n"
      ]
    },
    {
      "cell_type": "code",
      "execution_count": null,
      "metadata": {
        "collapsed": false
      },
      "outputs": [],
      "source": [
        "lhc.re_cycle_sequence(madx, sequence=\"lhcb1\", start=\"IP3\")\nlhc.make_lhc_beams(madx, energy=7000)\nmadx.command.use(sequence=\"lhcb1\")"
      ]
    },
    {
      "cell_type": "markdown",
      "metadata": {},
      "source": [
        "We will use the `~.plotters.LatticePlotter.plot_latwiss` function to have zoomed-in\nlook at the Interaction Region 1 by providing the *xlimits* parameter. Let's first\ndetermine the position of points of interest through the ``TWISS`` table:\n\n"
      ]
    },
    {
      "cell_type": "code",
      "execution_count": null,
      "metadata": {
        "collapsed": false
      },
      "outputs": [],
      "source": [
        "madx.command.twiss()\ntwiss_df = madx.table.twiss.dframe().copy()\ntwiss_df.name = twiss_df.name.apply(lambda x: x[:-2])\nip1s = twiss_df.s[\"ip1\"]"
      ]
    },
    {
      "cell_type": "markdown",
      "metadata": {},
      "source": [
        "Let's now have a look at the IR in normal conditions.\n\n"
      ]
    },
    {
      "cell_type": "code",
      "execution_count": null,
      "metadata": {
        "collapsed": false
      },
      "outputs": [],
      "source": [
        "IR1_fig = LatticePlotter.plot_latwiss(\n    madx,\n    figsize=(18, 11),\n    title=\"LHCB1 IR1 - No Rigid Waist Shift\",\n    disp_ylim=(-1.5, 3),\n    xoffset=ip1s,\n    xlimits=(-200, 200),\n    k0l_lim=(-2e-3, 2e-3),\n    k1l_lim=(-6.1e-2, 6.1e-2),\n    lw=1.5,\n)\nIR1_fig.axes[-2].set_xlabel(r\"$\\mathrm{Distance\\ to\\ IP1\\ [m]}$\")\nfor axis in IR1_fig.axes:\n    axis.axvline(x=0, color=\"grey\", ls=\"--\", lw=1.5, label=\"IP1\")\nplt.show()"
      ]
    },
    {
      "cell_type": "markdown",
      "metadata": {},
      "source": [
        "Notice the (anti)symmetry of the $\\beta_{x,y}$ functions and triplet\nquadrupoles powering on the right and left-hand side of the IP. Let's now apply\na rigid waist shift - meaning all four betatron waists moving simultaneously - by\nchanging the triplets powering. This is handled by the convenient function\n`~.lhc.apply_lhc_rigidity_waist_shift_knob`.\n\nIt is possible to choose the knob's strength, in which IR to apply it, and on\nwhich side of the IP to shift the beam waist. See the function documentation\nfor more details. After applying the knob, we will re-match to our working point\nto make sure we do not deviate.\n\n.. hint::\n   A waist shift knob setting of 1 will result in a 0.5% change in the triplets\n   knob powering. The individual triplet magnets trims are not affected. Here we\n   will use a setting of 1.5 to make the effect easily noticeable.\n\n"
      ]
    },
    {
      "cell_type": "code",
      "execution_count": null,
      "metadata": {
        "collapsed": false
      },
      "outputs": [],
      "source": [
        "lhc.apply_lhc_rigidity_waist_shift_knob(madx, rigidty_waist_shift_value=1.5, ir=1)\nmatching.match_tunes_and_chromaticities(madx, \"lhc\", \"lhcb1\", 62.31, 60.32, 2.0, 2.0)"
      ]
    },
    {
      "cell_type": "markdown",
      "metadata": {},
      "source": [
        "Let's again retrieve the ``TWISS`` table, then plot the new conditions in the\nInteraction Region.\n\n"
      ]
    },
    {
      "cell_type": "code",
      "execution_count": null,
      "metadata": {
        "collapsed": false
      },
      "outputs": [],
      "source": [
        "twiss_df_waist = madx.table.twiss.dframe().copy()\ntwiss_df_waist.name = twiss_df.name.apply(lambda x: x[:-2])\nip1s = twiss_df_waist.s[\"ip1\"]\n\nIR1_waist_shift = LatticePlotter.plot_latwiss(\n    madx,\n    figsize=(16, 11),\n    title=\"LHCB1 IR1 - With Rigid Waist Shift\",\n    disp_ylim=(-1.5, 3),\n    xoffset=ip1s,\n    xlimits=(-200, 200),\n    k0l_lim=(-2e-3, 2e-3),\n    k1l_lim=(-6.1e-2, 6.1e-2),\n    lw=1.5,\n)\nIR1_waist_shift.axes[-2].set_xlabel(r\"$\\mathrm{Distance\\ to\\ IP1\\ [m]}$\")\nfor axis in IR1_fig.axes:\n    axis.axvline(x=0, color=\"grey\", ls=\"--\", lw=1.5, label=\"IP1\")\nplt.show()"
      ]
    },
    {
      "cell_type": "markdown",
      "metadata": {},
      "source": [
        "Comparing to the previous plot, one can notice two things:\n - The triplet quadrupoles powering has changed and is not (anti-)symmetric anymore.\n - The $\\beta_{x,y}$ functions symmetry has been broken.\n\nOne can compare the $\\beta_{x,y}$ functions before and after the rigid\nwaist shift with a simple plot:\n\n"
      ]
    },
    {
      "cell_type": "code",
      "execution_count": null,
      "metadata": {
        "collapsed": false
      },
      "outputs": [],
      "source": [
        "plt.figure(figsize=(16, 10))\nplt.plot(twiss_df.s - ip1s, twiss_df.betx * 1e-3, \"b-\", label=r\"$\\beta_{x}^{n}$\")\nplt.plot(twiss_df_waist.s - ip1s, twiss_df_waist.betx * 1e-3, \"b--\", label=r\"$\\beta_{x}^{w}$\")\n\nplt.plot(twiss_df.s - ip1s, twiss_df.bety * 1e-3, \"r-\", label=r\"$\\beta_{y}^{n}$\")\nplt.plot(twiss_df_waist.s - ip1s, twiss_df_waist.bety * 1e-3, \"r--\", label=r\"$\\beta_{y}^{w}$\")\n\nplt.xlabel(r\"$\\mathrm{Distance\\ to\\ IP1\\ [m]}$\")\nplt.ylabel(r\"$\\beta_{x,y}\\ \\mathrm{[km]}$\")\nplt.xlim(-200, 200)\nplt.ylim(-5e-1, 9)\nplt.legend()\nplt.show()"
      ]
    },
    {
      "cell_type": "markdown",
      "metadata": {},
      "source": [
        "Here the subscript **n** stands for nominal, and **w** for the waist shift.\n\n.. tip::\n  The differences observed will vary depending on the strength of the knob,\n  which we choose with the *rigidty_waist_shift_value* parameter.\n\nLet's not forget to close the rpc connection to ``MAD-X``:\n\n"
      ]
    },
    {
      "cell_type": "code",
      "execution_count": null,
      "metadata": {
        "collapsed": false
      },
      "outputs": [],
      "source": [
        "madx.exit()"
      ]
    },
    {
      "cell_type": "markdown",
      "metadata": {},
      "source": [
        "## Determining the Waist Shift\nLet's now determine the value of the waist, aka the amount by which we have\nshifted the waist compared to the IP point location. To do so, we will use\nboth an analytical approach and a more brute force one through simulations.\n\nLet's set up a rigid waist shift, with the addition of many *marker* elements\nin the close vicinity of the IP in order to get better resolution when looking\nat the $\\beta_{x,y}$ functions.\n\nLet's do so for the LHC 2022 optics, with pre-calculated knobs use in the LHC\n2022 commissioning to speed up this file's execution time.\n\n"
      ]
    },
    {
      "cell_type": "code",
      "execution_count": null,
      "metadata": {
        "collapsed": false
      },
      "outputs": [],
      "source": [
        "b1_knobs = [\"knobs/quadrupoles.madx\", \"knobs/triplets.madx\", \"knobs/working_point.madx\"]\n\nwith Madx(stdout=False) as madx:\n    madx.option(echo=False, warn=False)\n    madx.call(\"acc-models-lhc/lhc.seq\")\n    lhc.make_lhc_beams(madx, energy=6800)\n    madx.call(\"acc-models-lhc/operation/optics/R2022a_A30cmC30cmA10mL200cm.madx\")\n    madx.command.use(sequence=f\"lhcb1\")\n\n    lhc.re_cycle_sequence(madx, sequence=f\"lhcb1\", start=f\"MSIA.EXIT.B1\")\n    madx.command.use(sequence=f\"lhcb1\")\n    lhc.make_lhc_thin(madx, sequence=f\"lhcb1\", slicefactor=4)\n    _misc.add_markers_around_lhc_ip(madx, sequence=f\"lhcb1\", ip=1, n_markers=1000, interval=0.001)\n    madx.command.twiss()\n    initial_twiss = madx.table.twiss.dframe().copy()\n\n    # Calling pre-calculated and re-matched waist shift knobs\n    for knobfile in b1_knobs:\n        madx.call(knobfile)\n\n    matching.match_tunes(madx, \"lhc\", f\"lhcb1\", 62.31, 60.32)\n    matching.match_chromaticities(madx, \"lhc\", f\"lhcb1\", 2.0, 2.0)\n    matching.match_tunes_and_chromaticities(madx, \"lhc\", f\"lhcb1\", 62.31, 60.32, 2.0, 2.0)\n\n    madx.command.twiss()\n    twiss_df = madx.table.twiss.dframe().copy()"
      ]
    },
    {
      "cell_type": "markdown",
      "metadata": {},
      "source": [
        "We will use all our added markers to determine the location of the waist,\nby simply finding with good resolution the minima of the $\\beta_{x,y}$\nfunctions.\n\n"
      ]
    },
    {
      "cell_type": "code",
      "execution_count": null,
      "metadata": {
        "collapsed": false
      },
      "outputs": [],
      "source": [
        "initial_twiss.name = initial_twiss.name.apply(lambda x: x[:-2])\ntwiss_df.name = twiss_df.name.apply(lambda x: x[:-2])\nip_s = twiss_df.s[f\"ip1\"]\nslimits = (ip_s - 10, ip_s + 10)\n\naround_ip = twiss_df[twiss_df.s.between(*slimits)]\ninitial_twiss = initial_twiss[initial_twiss.s.between(*slimits)]\nwaist_location = around_ip.s[around_ip.betx == around_ip.betx.min()][0]"
      ]
    },
    {
      "cell_type": "markdown",
      "metadata": {},
      "source": [
        "We can also plot the $\\beta_{x,y}$ functions before and after the\napplication of the rigid waist shift. Here one can clearly see the shift of\nthe waist between the two configurations\n\n"
      ]
    },
    {
      "cell_type": "code",
      "execution_count": null,
      "metadata": {
        "collapsed": false
      },
      "outputs": [],
      "source": [
        "fig, axis = plt.subplots(figsize=(15, 10))\n\naxis.plot(\n    around_ip.s - ip_s,\n    around_ip.betx,\n    ls=\"-\",\n    color=\"blue\",\n    marker=\".\",\n    label=r\"$\\beta_x^{\\mathrm{waist}}$\",\n)\naxis.plot(\n    around_ip.s - ip_s,\n    around_ip.bety,\n    ls=\"-\",\n    color=\"orange\",\n    marker=\".\",\n    label=r\"$\\beta_y^{\\mathrm{waist}}$\",\n)\n\naxis.axvline(0, color=\"purple\", ls=\"--\", lw=1.5, label=r\"$\\mathrm{IP1}$\")\naxis.axvline(waist_location - ip_s, color=\"green\", ls=\"--\", lw=1.5, label=r\"$\\mathrm{Waist}$\")\naxis.axvspan(waist_location - ip_s, 0, color=\"red\", alpha=0.1)\n\naxis.plot(\n    initial_twiss.s - ip_s,\n    initial_twiss.betx,\n    ls=\"-.\",\n    color=\"blue\",\n    alpha=0.5,\n    label=r\"$\\beta_x^{\\mathrm{nominal}}$\",\n)\naxis.plot(\n    initial_twiss.s - ip_s,\n    initial_twiss.bety,\n    ls=\"-.\",\n    color=\"orange\",\n    alpha=0.5,\n    label=r\"$\\beta_y^{\\mathrm{nominal}}$\",\n)\n\nplt.xlabel(r\"$\\mathrm{Distance \\ to \\ IP1 \\ [m]}$\")\nplt.ylabel(r\"$\\beta_{x,y} \\ \\mathrm{[m]}$\")\nplt.legend(ncol=2)\nplt.show()"
      ]
    },
    {
      "cell_type": "markdown",
      "metadata": {},
      "source": [
        "The value of the waist is then simply the distance between the IP and the\nlocation of the found minima. Here is the value, in meters:\n\n"
      ]
    },
    {
      "cell_type": "code",
      "execution_count": null,
      "metadata": {
        "collapsed": false
      },
      "outputs": [],
      "source": [
        "shift = ip_s - waist_location\nprint(shift)"
      ]
    },
    {
      "cell_type": "markdown",
      "metadata": {},
      "source": [
        "Let's now determine this value using the Eq. 10 formula in\n:cite:t:`Carlier:AccuracyFeasibilityMeasurement2017`:\n$\\beta_0 = \\beta_w + \\frac{(L^{*} - w)^2}{\\beta_w}$\n\nwhere $\\beta_0$ is the $\\beta$ function at the end of the\nquadrupole (Q1, end closest to IP); $\\beta_w$` is the $\\beta$\nfunction at the waist itself (found as min of $\\beta$ function in the\nregion); $L^{*}$ is the distance from close end of quadrupole (Q1) to\nthe IP point itself; and $w$ is the waist displacement we are looking\nto figure out.\n\nManipulating the equation to determine the waist yields:\n$w = L^{*} - \\sqrt{\\beta_0 \\beta_w - \\beta_w^2}$\n\n"
      ]
    },
    {
      "cell_type": "code",
      "execution_count": null,
      "metadata": {
        "collapsed": false
      },
      "outputs": [],
      "source": [
        "q1_right_s = twiss_df[twiss_df.name.str.contains(f\"mqxa.1r1\")].s[0]  # to calculate from the right Q1\nq1_left_s = twiss_df[twiss_df.name.str.contains(f\"mqxa.1l1\")].s[-1]  # to calculate from the left Q1\n\nL_star = ip_s - q1_left_s  # we calculate from left Q1\n# beta0 = twiss_df[twiss_df.name.str.contains(f\"mqxa.1r1\")].betx[0]  # to calculate from the right\nbeta0 = twiss_df[twiss_df.name.str.contains(f\"mqxa.1l1\")].betx[-1]  # to calculate from the left\nbetaw = around_ip.betx.min()"
      ]
    },
    {
      "cell_type": "markdown",
      "metadata": {},
      "source": [
        "The analytical result (sign will swap depending on if we calculate from left\nor right Q1) is then easily calculated. We can then compare this value to the\none found with the markers we previously added, and they are fairly close.\n\n"
      ]
    },
    {
      "cell_type": "code",
      "execution_count": null,
      "metadata": {
        "collapsed": false
      },
      "outputs": [],
      "source": [
        "waist = L_star - np.sqrt(beta0 * betaw - betaw ** 2)\nprint(waist)  # analytical\nprint(shift)  # markers"
      ]
    },
    {
      "cell_type": "markdown",
      "metadata": {},
      "source": [
        ".. admonition:: References\n\n   The use of the following functions, methods, classes and modules is shown\n   in this example:\n\n   - `~.cpymadtools.lhc`: `~.lhc.make_lhc_beams`, `~.lhc.re_cycle_sequence`, `~.lhc.apply_lhc_rigidity_waist_shift_knob`\n   - `~.cpymadtools.matching`: `~.matching.match_tunes`, `~.matching.match_chromaticities`, `~.matching.match_tunes_and_chromaticities`\n   - `~.cpymadtools.plotters`: `~.plotters.LatticePlotter`, `~.plotters.LatticePlotter.plot_latwiss`\n\n"
      ]
    }
  ],
  "metadata": {
    "kernelspec": {
      "display_name": "Python 3",
      "language": "python",
      "name": "python3"
    },
    "language_info": {
      "codemirror_mode": {
        "name": "ipython",
        "version": 3
      },
      "file_extension": ".py",
      "mimetype": "text/x-python",
      "name": "python",
      "nbconvert_exporter": "python",
      "pygments_lexer": "ipython3",
      "version": "3.9.14"
    }
  },
  "nbformat": 4,
  "nbformat_minor": 0
}