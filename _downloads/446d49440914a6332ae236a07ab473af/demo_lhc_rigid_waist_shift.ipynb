{
  "cells": [
    {
      "cell_type": "markdown",
      "metadata": {},
      "source": [
        "\n\n# LHC Rigid Waist Shift\n\nThis example shows how to use the `~.lhc.apply_lhc_rigidity_waist_shift_knob`\nfunction to force a waist shift at a given IP and break the symmetry of the\n$\\beta$-functions in the Interaction Region. This is done by\nover-powering one triplet knob and under-powering the other, by the same\npowering delta.\n\nIn :cite:t:`PRAB:Soubelet:Rigid_Waist_Shift_Method_Local_Coupling_Correction_LHC_IR`\n(2023) one can find out about studies and achievements at the LHC done with the Rigid\nWaist Shift.\n\nWe will do a comparison of the interaction region situation before and after\napplying a rigid waist shift, and look in more details at the waist shift\nitself.\n\n<div class=\"alert alert-info\"><h4>Note</h4><p>This is very specific to the LHC machine and the implementation in these\n    functions would not work on other accelerators.</p></div>\n\n.. important::\n    This example requires the `acc-models-lhc` repository to be cloned locally. One\n    can get it by running the following command:\n\n```bash\ngit clone -b 2022 https://gitlab.cern.ch/acc-models/acc-models-lhc.git --depth 1\n```\n    Here I set the 2022 branch for stability and reproducibility of the documentation\n    builds, but you can use any branch you want.\n"
      ]
    },
    {
      "cell_type": "code",
      "execution_count": null,
      "metadata": {
        "collapsed": false
      },
      "outputs": [],
      "source": [
        "from collections import namedtuple\nfrom multiprocessing import cpu_count\n\nimport matplotlib.pyplot as plt\nimport numpy as np\nimport tfs\n\nfrom cpymad.madx import Madx\nfrom joblib import Parallel, delayed\n\nfrom pyhdtoolkit.cpymadtools import lhc, matching, twiss\nfrom pyhdtoolkit.plotting.lattice import plot_latwiss\nfrom pyhdtoolkit.plotting.styles import _SPHINX_GALLERY_PARAMS\nfrom pyhdtoolkit.plotting.utils import draw_ip_locations, get_lhc_ips_positions\nfrom pyhdtoolkit.utils import logging\n\nlogging.config_logger(level=\"error\")\nplt.rcParams.update(_SPHINX_GALLERY_PARAMS)  # for readability of this tutorial"
      ]
    },
    {
      "cell_type": "markdown",
      "metadata": {},
      "source": [
        "## Showcasing the Waist Shift\nLet's start by setting up the LHC in ``MAD-X``, in this case at top energy.\nTo understand the function below have a look at the `lhc setup example\n<demo-lhc-setup>`.\n\n"
      ]
    },
    {
      "cell_type": "code",
      "execution_count": null,
      "metadata": {
        "collapsed": false
      },
      "outputs": [],
      "source": [
        "madx: Madx = lhc.prepare_lhc_run3(\n    opticsfile=\"acc-models-lhc/operation/optics/R2022a_A30cmC30cmA10mL200cm.madx\",\n    stdout=False,\n)"
      ]
    },
    {
      "cell_type": "markdown",
      "metadata": {},
      "source": [
        "We will use the `~.plotting.lattice.plot_latwiss` function to have a zoomed-in look\nat the Interaction Region 1 by providing the *xlimits* parameter. Let's first\nget the IP postitions with `~.plotting.utils.get_lhc_ips_positions`:\n\n"
      ]
    },
    {
      "cell_type": "code",
      "execution_count": null,
      "metadata": {
        "collapsed": false
      },
      "outputs": [],
      "source": [
        "nominal_df = twiss.get_twiss_tfs(madx)\nips = get_lhc_ips_positions(nominal_df)\nip1s = ips[\"IP1\"]"
      ]
    },
    {
      "cell_type": "markdown",
      "metadata": {},
      "source": [
        "Let's now have a look at the IR in normal conditions.\n\n"
      ]
    },
    {
      "cell_type": "code",
      "execution_count": null,
      "metadata": {
        "collapsed": false
      },
      "outputs": [],
      "source": [
        "plt.figure(figsize=(18, 11))\nplot_latwiss(\n    madx,\n    title=\"LHCB1 IR1 - No Rigid Waist Shift\",\n    disp_ylim=(-0.4, 1.9),\n    xoffset=ip1s,\n    xlimits=(-200, 200),\n    k0l_lim=2.25e-3,\n    k1l_lim=6.1e-2,\n    lw=1.5,\n)\nplt.gcf().axes[-2].set_xlabel(r\"$\\mathrm{Distance\\ to\\ IP1\\ [m]}$\")\nfor axis in plt.gcf().axes:\n    axis.axvline(x=0, color=\"grey\", ls=\"--\", lw=1.5, label=\"IP1\")\nplt.show()"
      ]
    },
    {
      "cell_type": "markdown",
      "metadata": {},
      "source": [
        "Notice the (anti-)symmetry of the $\\beta_{x,y}$ functions and triplet\nquadrupoles powering on the right and left-hand side of the IP. Let's now apply\na rigid waist shift - meaning all four betatron waists moving simultaneously - by\nchanging the triplets powering. This is handled by the convenient function\n`~.lhc.apply_lhc_rigidity_waist_shift_knob`.\n\nIt is possible to choose the knob's strength, in which IR to apply it, and on\nwhich side of the IP to shift the beam waist. See the function documentation\nfor more details. After applying the knob, we will re-match to our working point\nto make sure we do not deviate.\n\n.. hint::\n   A waist shift knob setting of 1 will result in a 0.5% change in the triplets\n   knob powering. The individual triplet magnets trims are not affected. Here we\n   will use a setting of 1.5 to make the effect easily noticeable.\n\n"
      ]
    },
    {
      "cell_type": "code",
      "execution_count": null,
      "metadata": {
        "collapsed": false
      },
      "outputs": [],
      "source": [
        "lhc.apply_lhc_rigidity_waist_shift_knob(madx, rigidty_waist_shift_value=1.5, ir=1)\nmatching.match_tunes_and_chromaticities(madx, \"lhc\", \"lhcb1\", 62.31, 60.32, 2.0, 2.0)\nwaist_df = twiss.get_twiss_tfs(madx)"
      ]
    },
    {
      "cell_type": "markdown",
      "metadata": {},
      "source": [
        "Let's again retrieve the ``TWISS`` table, then plot the new conditions in the\nInteraction Region.\n\n"
      ]
    },
    {
      "cell_type": "code",
      "execution_count": null,
      "metadata": {
        "collapsed": false
      },
      "outputs": [],
      "source": [
        "plt.figure(figsize=(18, 11))\nplot_latwiss(\n    madx,\n    title=\"LHCB1 IR1 - With Rigid Waist Shift\",\n    disp_ylim=(-0.4, 1.9),\n    xoffset=ip1s,\n    xlimits=(-200, 200),\n    k0l_lim=2.25e-3,\n    k1l_lim=6.1e-2,\n    lw=1.5,\n)\nplt.gcf().axes[-2].set_xlabel(r\"$\\mathrm{Distance\\ to\\ IP1\\ [m]}$\")\nfor axis in plt.gcf().axes:\n    axis.axvline(x=0, color=\"grey\", ls=\"--\", lw=1.5, label=\"IP1\")\nplt.show()"
      ]
    },
    {
      "cell_type": "markdown",
      "metadata": {},
      "source": [
        "Comparing to the previous plot, one can notice two things:\n - The triplet quadrupoles powering has changed.\n - The $\\beta_{x,y}$ functions symmetry has been broken.\n\nOne can compare the $\\beta_{x,y}$ functions before and after the rigid\nwaist shift with a simple plot:\n\n"
      ]
    },
    {
      "cell_type": "code",
      "execution_count": null,
      "metadata": {
        "collapsed": false
      },
      "outputs": [],
      "source": [
        "fig, ax = plt.subplots(figsize=(16, 10))\nax.plot(nominal_df.S - ip1s, 1e-3 * nominal_df.BETX, \"b-\", label=r\"$\\beta_x^n$\")\nax.plot(waist_df.S - ip1s, 1e-3 * waist_df.BETX, \"b--\", label=r\"$\\beta_x^w$\")\n\nax.plot(nominal_df.S - ip1s, 1e-3 * nominal_df.BETY, \"r-\", label=r\"$\\beta_y^n$\")\nax.plot(waist_df.S - ip1s, 1e-3 * waist_df.BETY, \"r--\", label=r\"$\\beta_y^w$\")\n\nax.set_xlabel(r\"$\\mathrm{Distance\\ to\\ IP1\\ [m]}$\")\nax.set_ylabel(r\"$\\beta_{x,y}\\ \\mathrm{[km]}$\")\nax.set_xlim(-215, 215)\nax.set_ylim(-0.7, 9.3)\n\nax.xaxis.set_major_locator(plt.MaxNLocator(5))\nax.yaxis.set_major_locator(plt.MaxNLocator(5))\ndraw_ip_locations({\"IP1\": 0}, location=\"inside\")\nax.legend(loc=\"lower center\", bbox_to_anchor=(0.5, 1), ncols=4)\n\nplt.tight_layout()\nplt.show()"
      ]
    },
    {
      "cell_type": "markdown",
      "metadata": {},
      "source": [
        "Here the subscript **n** stands for the nominal scenario, and **w** for the\nrigid waist shift scenario.\n\n.. tip::\n  The differences observed will vary depending on the strength of the knob,\n  which we choose with the *rigidty_waist_shift_value* parameter.\n\nLet's not forget to close the rpc connection to ``MAD-X``:\n\n"
      ]
    },
    {
      "cell_type": "code",
      "execution_count": null,
      "metadata": {
        "collapsed": false
      },
      "outputs": [],
      "source": [
        "madx.exit()"
      ]
    },
    {
      "cell_type": "markdown",
      "metadata": {},
      "source": [
        "## Determining the Waist Shift\nLet's now determine the value of the waist, aka the amount by which we have\nshifted the waist compared to the IP point location. To this end, we will use\nboth an analytical approach and a more brute force one through simulations.\n\nLet's set up a rigid waist shift, with the addition of many *marker* elements\nin the close vicinity of the IP in order to get better resolution when looking\nat the $\\beta_{x,y}$ functions.\n\nLet's do so for the LHC 2022 optics, with pre-calculated knobs use in the LHC\n2022 commissioning to speed up this file's execution time.\n\n"
      ]
    },
    {
      "cell_type": "code",
      "execution_count": null,
      "metadata": {
        "collapsed": false
      },
      "outputs": [],
      "source": [
        "b1_knobs = [\"knobs/quadrupoles.madx\", \"knobs/triplets.madx\", \"knobs/working_point.madx\"]\n\nwith Madx(stdout=False) as madx:\n    madx.option(echo=False, warn=False)\n    madx.call(\"acc-models-lhc/lhc.seq\")\n    lhc.make_lhc_beams(madx, energy=6800)\n    madx.call(\"acc-models-lhc/operation/optics/R2022a_A30cmC30cmA10mL200cm.madx\")\n    madx.command.use(sequence=\"lhcb1\")\n\n    lhc.re_cycle_sequence(madx, sequence=\"lhcb1\", start=\"MSIA.EXIT.B1\")\n    madx.command.use(sequence=\"lhcb1\")\n    lhc.make_lhc_thin(madx, sequence=\"lhcb1\", slicefactor=4)\n    lhc.add_markers_around_lhc_ip(madx, sequence=\"lhcb1\", ip=1, n_markers=1000, interval=0.001)\n    madx.command.twiss()\n    initial_twiss = madx.table.twiss.dframe()\n\n    # Calling pre-calculated and re-matched waist shift knobs\n    for knobfile in b1_knobs:\n        madx.call(knobfile)\n\n    matching.match_tunes(madx, \"lhc\", \"lhcb1\", 62.31, 60.32)\n    matching.match_chromaticities(madx, \"lhc\", \"lhcb1\", 2.0, 2.0)\n    matching.match_tunes_and_chromaticities(madx, \"lhc\", \"lhcb1\", 62.31, 60.32, 2.0, 2.0)\n\n    madx.command.twiss()\n    nominal_df = madx.table.twiss.dframe()"
      ]
    },
    {
      "cell_type": "markdown",
      "metadata": {},
      "source": [
        "We will use all our added markers to determine the location of the waist,\nby simply finding with good resolution the minima of the $\\beta_{x,y}$\nfunctions.\n\n"
      ]
    },
    {
      "cell_type": "code",
      "execution_count": null,
      "metadata": {
        "collapsed": false
      },
      "outputs": [],
      "source": [
        "initial_twiss.name = initial_twiss.name.apply(lambda x: x[:-2])\nnominal_df.name = nominal_df.name.apply(lambda x: x[:-2])\nip_s = nominal_df.s[\"ip1\"]\nslimits = (ip_s - 10, ip_s + 10)\n\naround_ip = nominal_df[nominal_df.s.between(*slimits)]\ninitial_twiss = initial_twiss[initial_twiss.s.between(*slimits)]\nwaist_location = around_ip.s[around_ip.betx == around_ip.betx.min()].iloc[0]"
      ]
    },
    {
      "cell_type": "markdown",
      "metadata": {},
      "source": [
        "We can also plot the $\\beta_{x,y}$ functions before and after the\napplication of the rigid waist shift. Here one can clearly see the shift of\nthe waist between the two configurations.\n\n"
      ]
    },
    {
      "cell_type": "code",
      "execution_count": null,
      "metadata": {
        "collapsed": false
      },
      "outputs": [],
      "source": [
        "fig, axis = plt.subplots(figsize=(16, 10))\n\naxis.plot(\n    around_ip.s - ip_s,\n    around_ip.betx,\n    ls=\"-\",\n    color=\"blue\",\n    marker=\".\",\n    label=r\"$\\beta_x^w$\",\n)\naxis.plot(\n    around_ip.s - ip_s,\n    around_ip.bety,\n    ls=\"-\",\n    color=\"orange\",\n    marker=\".\",\n    label=r\"$\\beta_y^w$\",\n)\n\naxis.axvline(0, color=\"purple\", ls=\"--\", lw=1.5, label=\"IP1\")\naxis.axvline(waist_location - ip_s, color=\"green\", ls=\"--\", lw=1.5, label=\"Waist\")\naxis.axvspan(waist_location - ip_s, 0, color=\"red\", alpha=0.1)\n\naxis.plot(\n    initial_twiss.s - ip_s,\n    initial_twiss.betx,\n    ls=\"-.\",\n    color=\"blue\",\n    alpha=0.5,\n    label=r\"$\\beta_x^n$\",\n)\naxis.plot(\n    initial_twiss.s - ip_s,\n    initial_twiss.bety,\n    ls=\"-.\",\n    color=\"orange\",\n    alpha=0.5,\n    label=r\"$\\beta_y^n$\",\n)\n\nplt.xlabel(r\"$\\mathrm{Distance \\ to \\ IP1 \\ [m]}$\")\nplt.ylabel(r\"$\\beta_{x,y} \\ \\mathrm{[m]}$\")\nplt.legend(ncol=2)\nplt.show()"
      ]
    },
    {
      "cell_type": "markdown",
      "metadata": {},
      "source": [
        "The value of the waist is then simply the distance between the IP and the\nlocation of the found minima. Here is the value, in meters:\n\n"
      ]
    },
    {
      "cell_type": "code",
      "execution_count": null,
      "metadata": {
        "collapsed": false
      },
      "outputs": [],
      "source": [
        "shift = ip_s - waist_location\nprint(shift)"
      ]
    },
    {
      "cell_type": "markdown",
      "metadata": {},
      "source": [
        "Let's now determine this value using the Eq. 10 formula in\n:cite:t:`Carlier:AccuracyFeasibilityMeasurement2017`:\n$\\beta_0 = \\beta_w + \\frac{(L^{*} - w)^2}{\\beta_w}$\n\nwhere $\\beta_0$ is the $\\beta$ function at the end of the\nquadrupole (Q1, end closest to IP); $\\beta_w$` is the $\\beta$\nfunction at the waist itself (found as the minimum of the $\\beta$-function\nin the region); $L^{*}$ is the distance from close end of quadrupole (Q1)\nto the IP point itself; and $w$ is the waist displacement we are looking\nto figure out.\n\nManipulating the equation to determine the waist yields:\n$w = L^{*} - \\sqrt{\\beta_0 \\beta_w - \\beta_w^2}$\n\n"
      ]
    },
    {
      "cell_type": "code",
      "execution_count": null,
      "metadata": {
        "collapsed": false
      },
      "outputs": [],
      "source": [
        "# to calculate from the right Q1 then from the left Q1\nq1_right_s = nominal_df[nominal_df.name.str.contains(\"mqxa.1r1\")].s.iloc[0]\nq1_left_s = nominal_df[nominal_df.name.str.contains(\"mqxa.1l1\")].s.iloc[-1]\n\nL_star = ip_s - q1_left_s  # say we calculate from left Q1\n# beta0 = nominal_df[nominal_df.name.str.contains(f\"mqxa.1r1\")].betx.iloc[0]  # from the right\nbeta0 = nominal_df[nominal_df.name.str.contains(\"mqxa.1l1\")].betx.iloc[-1]  # from the left\nbetaw = around_ip.betx.min()"
      ]
    },
    {
      "cell_type": "markdown",
      "metadata": {},
      "source": [
        "The analytical result (sign will swap depending on if we calculate from left\nor right Q1) is then easily calculated. We can then compare this value to the\none found with the markers we previously added, and they are fairly close.\n\n"
      ]
    },
    {
      "cell_type": "code",
      "execution_count": null,
      "metadata": {
        "collapsed": false
      },
      "outputs": [],
      "source": [
        "waist = L_star - np.sqrt(beta0 * betaw - betaw**2)\nprint(f\"Analytical: {waist}\")\nprint(f\"Markers: {shift}\")"
      ]
    },
    {
      "cell_type": "markdown",
      "metadata": {},
      "source": [
        "## Seeing the effect through values of the knob\nWe can use the above to determine these values for different knob settings.\nFirst, let's define some structures and functions.\n\n"
      ]
    },
    {
      "cell_type": "code",
      "execution_count": null,
      "metadata": {
        "collapsed": false
      },
      "outputs": [],
      "source": [
        "Waist = namedtuple(\"Waist\", [\"x\", \"y\"])\nBetasIP = namedtuple(\"Betas\", [\"x\", \"y\"])\nResult = namedtuple(\"Result\", [\"waists\", \"betas\"])\n\n\ndef find_waists(current_twiss: tfs.TfsDataFrame, initial_twiss: tfs.TfsDataFrame) -> Waist:\n    initial = initial_twiss.copy()\n    ip_s = current_twiss.S[\"IP1\"]\n    slimits = (ip_s - 10, ip_s + 10)\n\n    around_ip = current_twiss[current_twiss.S.between(*slimits)]\n    initial = initial[initial.S.between(*slimits)].copy()\n    hor_waist_location = around_ip.S[around_ip.BETX.min() == around_ip.BETX].iloc[0]\n    ver_waist_location = around_ip.S[around_ip.BETY.min() == around_ip.BETY].iloc[0]\n    initial = initial_twiss.copy()\n    ip_s = current_twiss.S[\"IP1\"]\n    slimits = (ip_s - 10, ip_s + 10)\n\n    around_ip = current_twiss[current_twiss.S.between(*slimits)]\n    initial = initial[initial.S.between(*slimits)].copy()\n    hor_waist_location = around_ip.S[around_ip.BETX.min() == around_ip.BETX].iloc[0]\n    ver_waist_location = around_ip.S[around_ip.BETY.min() == around_ip.BETY].iloc[0]\n    return Waist(ip_s - hor_waist_location, ip_s - ver_waist_location)\n\n\ndef find_betashifts(\n    current_twiss: tfs.TfsDataFrame, initial_twiss: tfs.TfsDataFrame\n) -> BetasIP:\n    delta_betx = current_twiss.BETX[\"IP1\"] - initial_twiss.BETX[\"IP1\"]\n    delta_bety = current_twiss.BETY[\"IP1\"] - initial_twiss.BETY[\"IP1\"]\n    return BetasIP(delta_betx, delta_bety)\n\n\ndef simulation(knob_value: float) -> Result:\n    with lhc.LHCSetup(\n        run=3, opticsfile=\"R2022a_A30cmC30cmA10mL200cm.madx\", slicefactor=4, stdout=False\n    ) as madx:\n        lhc.add_markers_around_lhc_ip(\n            madx, sequence=\"lhcb1\", ip=1, n_markers=1000, interval=0.001\n        )\n        ref_twiss = twiss.get_twiss_tfs(madx)\n        lhc.apply_lhc_rigidity_waist_shift_knob(madx, knob_value, ir=1)\n        new_twiss = twiss.get_twiss_tfs(madx)\n        reswaists = find_waists(new_twiss, ref_twiss)\n        resbetas = find_betashifts(new_twiss, ref_twiss)\n        return Result(reswaists, resbetas)"
      ]
    },
    {
      "cell_type": "markdown",
      "metadata": {},
      "source": [
        "Let's now run the simulation for different knob values:\n\n"
      ]
    },
    {
      "cell_type": "code",
      "execution_count": null,
      "metadata": {
        "collapsed": false
      },
      "outputs": [],
      "source": [
        "parameter_space = np.linspace(-1, 1, 50)\nresults: list[Result] = Parallel(n_jobs=cpu_count(), backend=\"threading\", verbose=0)(\n    delayed(simulation)(knob_value=knobval) for knobval in parameter_space\n)\n\nwaist_x = np.array([res.waists.x for res in results])\nwaist_y = np.array([res.waists.y for res in results])\n\ndeltabetx = np.array([res.betas.x for res in results])\ndeltabety = np.array([res.betas.y for res in results])"
      ]
    },
    {
      "cell_type": "markdown",
      "metadata": {},
      "source": [
        "We can now plot the results:\n\n"
      ]
    },
    {
      "cell_type": "code",
      "execution_count": null,
      "metadata": {
        "collapsed": false
      },
      "outputs": [],
      "source": [
        "fig, axis = plt.subplots(figsize=(16, 10))\n\naxis.plot(parameter_space, 1e2 * waist_x, \"C0\", marker=\"s\", markersize=4)\naxis.tick_params(axis=\"y\", colors=\"C0\")\naxis.yaxis.label.set_color(\"C0\")\naxis.xaxis.set_major_locator(plt.MaxNLocator(5))\n\naxis2 = axis.twinx()\naxis2.yaxis.set_label_position(\"right\")\naxis2.yaxis.label.set_color(\"C1\")\naxis2.yaxis.tick_right()\naxis2.tick_params(axis=\"y\", colors=\"C1\")\naxis2.plot(\n    parameter_space,\n    1e2 * deltabetx,\n    \"C1\",\n    marker=\"o\",\n    ls=\"-\",\n    markersize=4,\n    label=\"Horizontal\",\n)\naxis2.plot(\n    parameter_space,\n    1e2 * deltabety,\n    \"C2\",\n    marker=\"o\",\n    ls=\"--\",\n    markersize=4,\n    label=\"Vertical\",\n)\naxis2.legend(loc=\"lower center\", bbox_to_anchor=(0.5, 1), ncols=2)\n\naxis.set_xlabel(\"Knob Setting\")\naxis.set_ylabel(r\"$\\mathrm{Waist_{X,Y}}$ Shift [cm]\")\naxis2.set_ylabel(r\"$\\Delta \\beta^{\\ast}$ [cm]\")\n\nplt.show()"
      ]
    },
    {
      "cell_type": "markdown",
      "metadata": {},
      "source": [
        "Let's not forget to close the rpc connection to ``MAD-X``:\n\n"
      ]
    },
    {
      "cell_type": "code",
      "execution_count": null,
      "metadata": {
        "collapsed": false
      },
      "outputs": [],
      "source": [
        "madx.exit()"
      ]
    },
    {
      "cell_type": "markdown",
      "metadata": {},
      "source": [
        ".. admonition:: References\n\n   The use of the following functions, methods, classes and modules is shown\n   in this example:\n\n   - `~.cpymadtools.lhc`: `~.lhc._setup.prepare_lhc_run3`, `~.lhc._setup.make_lhc_beams`, `~.lhc._setup.re_cycle_sequence`, `~.lhc._powering.apply_lhc_rigidity_waist_shift_knob`, `~.lhc._setup.make_lhc_thin`, `~.lhc._elements.add_markers_around_lhc_ip`\n   - `~.cpymadtools.matching`: `~.matching.match_tunes`, `~.matching.match_chromaticities`, `~.matching.match_tunes_and_chromaticities`\n   - `~.cpymadtools.twiss`: `~.twiss.get_twiss_tfs`\n   - `~.plotting.lattice`: `~.plotting.lattice.plot_latwiss`\n   - `~.plotting.utils`: `~.plotting.utils.draw_ip_locations`, `~.plotting.utils.get_lhc_ips_positions`\n\n"
      ]
    }
  ],
  "metadata": {
    "kernelspec": {
      "display_name": "Python 3",
      "language": "python",
      "name": "python3"
    },
    "language_info": {
      "codemirror_mode": {
        "name": "ipython",
        "version": 3
      },
      "file_extension": ".py",
      "mimetype": "text/x-python",
      "name": "python",
      "nbconvert_exporter": "python",
      "pygments_lexer": "ipython3",
      "version": "3.12.8"
    }
  },
  "nbformat": 4,
  "nbformat_minor": 0
}