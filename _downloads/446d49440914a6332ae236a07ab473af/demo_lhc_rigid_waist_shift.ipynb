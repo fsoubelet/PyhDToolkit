{
  "cells": [
    {
      "cell_type": "code",
      "execution_count": null,
      "metadata": {
        "collapsed": false
      },
      "outputs": [],
      "source": [
        "%matplotlib inline"
      ]
    },
    {
      "cell_type": "markdown",
      "metadata": {},
      "source": [
        "\n\n# LHC Rigid Waist Shift\n\nThis example shows how to use the `~.lhc.apply_lhc_rigidity_waist_shift_knob` \nfunction to force a waist shift at a given IP and break the symmetry of the \n$\\beta$-functions in the Interaction Region.\n\nWe will do a comparison of the interaction region situation before and after \napplying a rigid waist shift.\n\n<div class=\"alert alert-info\"><h4>Note</h4><p>This is very specific to the LHC machine and the implementation would not \n    work on other accelerators.</p></div>\n"
      ]
    },
    {
      "cell_type": "code",
      "execution_count": null,
      "metadata": {
        "collapsed": false
      },
      "outputs": [],
      "source": [
        "import matplotlib.pyplot as plt\nimport numpy as np\nimport pandas as pd\n\nfrom cpymad.madx import Madx\n\nfrom pyhdtoolkit.cpymadtools import lhc, matching\nfrom pyhdtoolkit.cpymadtools.plotters import LatticePlotter\nfrom pyhdtoolkit.utils import defaults\n\ndefaults.config_logger(level=\"warning\")\nplt.rcParams.update(defaults._SPHINX_GALLERY_PARAMS)  # for readability of this tutorial"
      ]
    },
    {
      "cell_type": "markdown",
      "metadata": {},
      "source": [
        "Let's start by setting up the LHC in ``MAD-X``, in this case at top energy:\n\n"
      ]
    },
    {
      "cell_type": "code",
      "execution_count": null,
      "metadata": {
        "collapsed": false
      },
      "outputs": [],
      "source": [
        "madx = Madx(stdout=False)\nmadx.call(\"lhc/lhc_as-built.seq\")\nmadx.call(\"lhc/opticsfile.22\")  # collision optics"
      ]
    },
    {
      "cell_type": "markdown",
      "metadata": {},
      "source": [
        "Let's re-cycle the sequences to avoid having IR1 split at beginning and end of lattice,\nas is the default in the LHC sequence:\n\n"
      ]
    },
    {
      "cell_type": "code",
      "execution_count": null,
      "metadata": {
        "collapsed": false
      },
      "outputs": [],
      "source": [
        "lhc.re_cycle_sequence(madx, sequence=\"lhcb1\", start=\"IP3\")\nlhc.make_lhc_beams(madx, energy=7000)\nmadx.command.use(sequence=\"lhcb1\")"
      ]
    },
    {
      "cell_type": "markdown",
      "metadata": {},
      "source": [
        "We will use the `~.plotters.LatticePlotter.plot_latwiss` function to have zoomed-in\nlook at the Interaction Region 1 by providing the *xlimits* parameter. Let's first\ndetermine the position of points of interest through the ``TWISS`` table:\n\n"
      ]
    },
    {
      "cell_type": "code",
      "execution_count": null,
      "metadata": {
        "collapsed": false
      },
      "outputs": [],
      "source": [
        "madx.command.twiss()\ntwiss_df = madx.table.twiss.dframe().copy()\ntwiss_df.name = twiss_df.name.apply(lambda x: x[:-2])\nip1s = twiss_df.s[\"ip1\"]"
      ]
    },
    {
      "cell_type": "markdown",
      "metadata": {},
      "source": [
        "Let's now have a look at the IR in normal conditions.\n\n"
      ]
    },
    {
      "cell_type": "code",
      "execution_count": null,
      "metadata": {
        "collapsed": false
      },
      "outputs": [],
      "source": [
        "IR1_fig = LatticePlotter.plot_latwiss(\n    madx,\n    figsize=(18, 11),\n    title=\"LHCB1 IR1 - No Rigid Waist Shift\",\n    disp_ylim=(-1.5, 3),\n    xoffset=ip1s,\n    xlimits=(-200, 200),\n    k0l_lim=(-2e-3, 2e-3),\n    k1l_lim=(-6.1e-2, 6.1e-2),\n    lw=1.5,\n)\nIR1_fig.axes[-2].set_xlabel(r\"$\\mathrm{Distance\\ to\\ IP1\\ [m]}$\")\nfor axis in IR1_fig.axes:\n    axis.axvline(x=0, color=\"grey\", ls=\"--\", lw=1.5, label=\"IP1\")\nplt.show()"
      ]
    },
    {
      "cell_type": "markdown",
      "metadata": {},
      "source": [
        "Notice the (anti)symmetry of the $\\beta_{x,y}$ functions and triplet\nquadrupoles powering on the right and left-hand side of the IP. Let's now apply\na rigid waist shift - meaning all four betatron waists moving simultaneously - by\nchanging the triplets powering. This is handled by the convenient function\n`~.lhc.apply_lhc_rigidity_waist_shift_knob`.\n\nIt is possible to choose the knob's strength, in which IR to apply it, and on\nwhich side of the IP to shift the beam waist. See the function documentation\nfor more details. After applying the knob, we will re-match to our working point\nto make sure we do not deviate.\n\n"
      ]
    },
    {
      "cell_type": "code",
      "execution_count": null,
      "metadata": {
        "collapsed": false
      },
      "outputs": [],
      "source": [
        "lhc.apply_lhc_rigidity_waist_shift_knob(madx, rigidty_waist_shift_value=1.5, ir=1)\nmatching.match_tunes_and_chromaticities(madx, \"lhc\", \"lhcb1\", 62.31, 60.32, 2.0, 2.0)"
      ]
    },
    {
      "cell_type": "markdown",
      "metadata": {},
      "source": [
        "Let's again retrieve the ``TWISS`` table, then plot the new conditions in the\nInteraction Region.\n\n"
      ]
    },
    {
      "cell_type": "code",
      "execution_count": null,
      "metadata": {
        "collapsed": false
      },
      "outputs": [],
      "source": [
        "twiss_df_waist = madx.table.twiss.dframe().copy()\ntwiss_df_waist.name = twiss_df.name.apply(lambda x: x[:-2])\nip1s = twiss_df_waist.s[\"ip1\"]\n\nIR1_waist_shift = LatticePlotter.plot_latwiss(\n    madx,\n    figsize=(16, 11),\n    title=\"LHCB1 IR1 - No Rigid Waist Shift\",\n    disp_ylim=(-1.5, 3),\n    xoffset=ip1s,\n    xlimits=(-200, 200),\n    k0l_lim=(-2e-3, 2e-3),\n    k1l_lim=(-6.1e-2, 6.1e-2),\n    lw=1.5,\n)\nIR1_waist_shift.axes[-2].set_xlabel(r\"$\\mathrm{Distance\\ to\\ IP1\\ [m]}$\")\nfor axis in IR1_fig.axes:\n    axis.axvline(x=0, color=\"grey\", ls=\"--\", lw=1.5, label=\"IP1\")\nplt.show()"
      ]
    },
    {
      "cell_type": "markdown",
      "metadata": {},
      "source": [
        "Comparing to the previous plot, one can notice two things:\n - The triplet quadrupoles powering has changed.\n - The $\\beta_{x,y}$ functions symmetry has been broken.\n\nOne can compare the $\\beta_{x,y}$ functions before and after the rigid\nwaist shift with a simple plot:\n\n"
      ]
    },
    {
      "cell_type": "code",
      "execution_count": null,
      "metadata": {
        "collapsed": false
      },
      "outputs": [],
      "source": [
        "plt.figure(figsize=(16, 10))\nplt.plot(twiss_df.s - ip1s, twiss_df.betx * 1e-3, \"b-\", label=r\"$\\beta_{x}^{n}$\")\nplt.plot(twiss_df_waist.s - ip1s, twiss_df_waist.betx * 1e-3, \"b--\", label=r\"$\\beta_{x}^{w}$\")\n\nplt.plot(twiss_df.s - ip1s, twiss_df.bety * 1e-3, \"r-\", label=r\"$\\beta_{y}^{n}$\")\nplt.plot(twiss_df_waist.s - ip1s, twiss_df_waist.bety * 1e-3, \"r--\", label=r\"$\\beta_{y}^{w}$\")\n\nplt.xlabel(r\"$\\mathrm{Distance\\ to\\ IP1\\ [m]}$\")\nplt.ylabel(r\"$\\beta_{x,y}\\ \\mathrm{[km]}$\")\nplt.xlim(-200, 200)\nplt.ylim(-5e-1, 9)\nplt.legend()"
      ]
    },
    {
      "cell_type": "markdown",
      "metadata": {},
      "source": [
        "Here the subscript **n** stands for nominal, and **w** for the waist shift.\n\n.. tip::\n  The differences observed will vary depending on the strength of the knob,\n  which we choose with the **rigidty_waist_shift_value** parameter.\n\nLet's not forget to close the rpc connection to ``MAD-X``:\n\n"
      ]
    },
    {
      "cell_type": "code",
      "execution_count": null,
      "metadata": {
        "collapsed": false
      },
      "outputs": [],
      "source": [
        "madx.exit()"
      ]
    },
    {
      "cell_type": "markdown",
      "metadata": {},
      "source": [
        ".. admonition:: References\n\n   The use of the following functions, methods, classes and modules is shown\n   in this example:\n\n   - `~.cpymadtools.lhc`: `~.lhc.make_lhc_beams`, `~.lhc.re_cycle_sequence`, `~.lhc.apply_lhc_rigidity_waist_shift_knob`\n   - `~.cpymadtools.matching`: `~.matching.match_tunes_and_chromaticities`\n   - `~.cpymadtools.plotters`: `~.plotters.LatticePlotter`, `~.plotters.LatticePlotter.plot_latwiss`\n\n"
      ]
    }
  ],
  "metadata": {
    "kernelspec": {
      "display_name": "Python 3",
      "language": "python",
      "name": "python3"
    },
    "language_info": {
      "codemirror_mode": {
        "name": "ipython",
        "version": 3
      },
      "file_extension": ".py",
      "mimetype": "text/x-python",
      "name": "python",
      "nbconvert_exporter": "python",
      "pygments_lexer": "ipython3",
      "version": "3.7.12"
    }
  },
  "nbformat": 4,
  "nbformat_minor": 0
}