{
  "cells": [
    {
      "cell_type": "code",
      "execution_count": null,
      "metadata": {
        "collapsed": false
      },
      "outputs": [],
      "source": [
        "%matplotlib inline"
      ]
    },
    {
      "cell_type": "markdown",
      "metadata": {},
      "source": [
        "\n\n# Accelerator Lattice\n\nThis example shows how to use the `~.plotting.lattice.plot_latwiss` function\nto represent your machine's layout and optics functions in a double-axis plot.\n\nIn this example, we will showcase the functionality on a simple lattice, and then demonstrate the use\nof several parameters to control the plot on the example case of the LHC.\n"
      ]
    },
    {
      "cell_type": "code",
      "execution_count": null,
      "metadata": {
        "collapsed": false
      },
      "outputs": [],
      "source": [
        "import matplotlib.pyplot as plt\n\nfrom cpymad.madx import Madx\n\nfrom pyhdtoolkit.cpymadtools import lhc, matching\nfrom pyhdtoolkit.cpymadtools._generators import LatticeGenerator\nfrom pyhdtoolkit.plotting.lattice import plot_latwiss\nfrom pyhdtoolkit.plotting.styles import _SPHINX_GALLERY_PARAMS\nfrom pyhdtoolkit.utils import logging\n\nlogging.config_logger(level=\"error\")\nplt.rcParams.update(_SPHINX_GALLERY_PARAMS)  # for readability of this tutorial"
      ]
    },
    {
      "cell_type": "markdown",
      "metadata": {},
      "source": [
        "Let's start by generating a simple lattice and setup your simulation:\n\n"
      ]
    },
    {
      "cell_type": "code",
      "execution_count": null,
      "metadata": {
        "collapsed": false
      },
      "outputs": [],
      "source": [
        "n_cells: int = 24\nbase_lattice: str = LatticeGenerator.generate_base_cas_lattice()\n\nmadx = Madx(stdout=False)\nmadx.input(base_lattice)\n\nmatching.match_tunes_and_chromaticities(\n    madx,\n    sequence=\"CAS3\",\n    q1_target=6.335,\n    q2_target=6.29,\n    dq1_target=100,\n    dq2_target=100,\n    varied_knobs=[\"kqf\", \"kqd\", \"ksf\", \"ksd\"],\n)"
      ]
    },
    {
      "cell_type": "markdown",
      "metadata": {},
      "source": [
        "Plotting the combined machine layout and optics functions is done in a single call\nto the `~.plotting.lattice.plot_latwiss` function. Here, we will also set the *k0l_lim*\nparameter to control the right-hand-side axis in the machine layout axis. The same\ncan be done with the *k1_lim* parameter.\n\n"
      ]
    },
    {
      "cell_type": "code",
      "execution_count": null,
      "metadata": {
        "collapsed": false
      },
      "outputs": [],
      "source": [
        "mu_x_cell = madx.table.summ.Q1[0] / n_cells\nmu_y_cell = madx.table.summ.Q2[0] / n_cells\ntitle = rf\"Base Lattice, $\\mu_{{x, cell}}={mu_x_cell:.3f}, \\ \\mu_{{y, cell}}={mu_y_cell:.3f}$\"\n\nplt.figure(figsize=(18, 11))\nplot_latwiss(madx, title=title, k0l_lim=(-0.15, 0.15), k1l_lim=(-0.08, 0.08), disp_ylim=(-10, 125), lw=3)\nplt.tight_layout()\nplt.show()\n\nmadx.exit()"
      ]
    },
    {
      "cell_type": "markdown",
      "metadata": {},
      "source": [
        "One can customise the plot more to their liking or needs thanks to the other\nfunction parameters. Let's showcase this with the LHC lattice, that we set up\nbelow:\n\n"
      ]
    },
    {
      "cell_type": "code",
      "execution_count": null,
      "metadata": {
        "collapsed": false
      },
      "outputs": [],
      "source": [
        "lhc_madx = Madx(stdout=False)\nlhc_madx.option(echo=False, warn=False)\nlhc_madx.call(\"lhc/lhc_as-built.seq\")\nlhc_madx.call(\"lhc/opticsfile.22\")  # collisions optics"
      ]
    },
    {
      "cell_type": "markdown",
      "metadata": {},
      "source": [
        "Let's re-cycle the sequences to avoid having IR1 split at beginning and end of\nlattice, as is the default in the LHC sequence, and setup a flat orbit.\n\n"
      ]
    },
    {
      "cell_type": "code",
      "execution_count": null,
      "metadata": {
        "collapsed": false
      },
      "outputs": [],
      "source": [
        "lhc.re_cycle_sequence(lhc_madx, sequence=\"lhcb1\", start=\"IP3\")\nlhc.re_cycle_sequence(lhc_madx, sequence=\"lhcb2\", start=\"IP3\")\norbit_scheme = lhc.setup_lhc_orbit(lhc_madx, scheme=\"flat\")\n\nlhc.make_lhc_beams(lhc_madx, energy=7000)\nlhc_madx.command.use(sequence=\"lhcb1\")"
      ]
    },
    {
      "cell_type": "markdown",
      "metadata": {},
      "source": [
        "The `~.plotting.lattice.plot_latwiss` function gives the possibility to zoom on a\nregion by providing the *xlimits* parameter. Let's first determine the position\nof points of interest through the ``TWISS`` table:\n\n"
      ]
    },
    {
      "cell_type": "code",
      "execution_count": null,
      "metadata": {
        "collapsed": false
      },
      "outputs": [],
      "source": [
        "lhc_madx.command.twiss()\ntwiss_df = lhc_madx.table.twiss.dframe()\ntwiss_df.name = twiss_df.name.apply(lambda x: x[:-2])\nip1s = twiss_df.s[\"ip1\"]"
      ]
    },
    {
      "cell_type": "markdown",
      "metadata": {},
      "source": [
        "We can now focus the plot in the Interaction Region 1 by providing the *xlimits*\ncentered around the value we determined for *ip1s*.\n\n.. tip::\n    In order to zoom on a region, one might be tempted to call the plot and run ``plt.xlim(...)``.\n    However, when providing the *xlimits* parameter, `~.plotting.lattice.plot_latwiss` makes a sub-selection\n    of the ``TWISS`` table before doing any plotting. This is provides a nice speedup to the plotting\n    process, as only elements within the limits are rendered on the layout axis, instead of all elements\n    (which can be a lot, and lengthy for big machines such as the LHC). It is therefore the recommended\n    way to zoom on a region.\n\n"
      ]
    },
    {
      "cell_type": "code",
      "execution_count": null,
      "metadata": {
        "collapsed": false
      },
      "outputs": [],
      "source": [
        "plt.figure(figsize=(18, 11))\nplot_latwiss(\n    lhc_madx,\n    title=\"Interaction Region 1, Flat LHCB1 Setup\",\n    disp_ylim=(-0.5, 2.5),\n    xlimits=(ip1s - 457, ip1s + 457),\n    k0l_lim=(-1.3e-2, 1.3e-2),\n    k1l_lim=(-6.1e-2, 6.1e-2),\n    lw=1.5,\n)\nplt.axvline(x=ip1s, color=\"grey\", ls=\"--\", lw=1.5, label=\"IP1\")\nplt.tight_layout()\nplt.show()"
      ]
    },
    {
      "cell_type": "markdown",
      "metadata": {},
      "source": [
        "Using the *xoffset* parameter, one can shift the longitudinal coordinate to be\ncentered on 0, with the horizontal axis showing relative position to the given\n*xoffset*. This is useful here to zoom closely on IP1 and see the elements'\npositions relative to the IP marker.\n\n"
      ]
    },
    {
      "cell_type": "code",
      "execution_count": null,
      "metadata": {
        "collapsed": false
      },
      "outputs": [],
      "source": [
        "plt.figure(figsize=(18, 11))\nplot_latwiss(\n    lhc_madx,\n    title=\"IP1 Surroundings, Flat LHCB1 Setup\",\n    disp_ylim=(-3e-2, 3e-2),\n    xoffset=ip1s,\n    xlimits=(-85, 85),\n    k0l_lim=(-4e-4, 4e-4),\n    k1l_lim=(-6e-2, 6e-2),\n    lw=1.5,\n)\nplt.axvline(x=0, color=\"grey\", ls=\"--\", lw=1.5, label=\"IP1\")\nplt.tight_layout()\nplt.show()"
      ]
    },
    {
      "cell_type": "markdown",
      "metadata": {},
      "source": [
        "When and only when the *k2l_lim* parameter is provided, the sextupolar elements\nare plotted on the lattice layout axis, and an additional scale is put to the right.\nThis is useful to see sextupoles when zooming in, which you would not necessarily\nwant to plot when looking at the big picture, to avoid overcrowding it. Similarly,\nproviding the *plot_bpms* will add a small marker for BPM elements. Here it is\nshowcased when looking at an LHC arc cell:\n\n"
      ]
    },
    {
      "cell_type": "code",
      "execution_count": null,
      "metadata": {
        "collapsed": false
      },
      "outputs": [],
      "source": [
        "plt.rcParams.update({\"axes.formatter.limits\": (-2, 5)})  # convenience\nplt.figure(figsize=(18, 11))\nplot_latwiss(\n    lhc_madx,\n    title=\"LHC Arc Cell, Flat LHCB1 Setup\",\n    plot_bpms=True,\n    disp_ylim=(-0.5, 20),\n    beta_ylim=(0, 200),\n    k0l_lim=(-3e-2, 3e-2),\n    k1l_lim=(-4e-2, 4e-2),\n    k2l_lim=(-5e-2, 5e-2),\n    lw=1.5,\n    xlimits=(14_084.5, 14_191.3),\n)\nplt.tight_layout()\nplt.show()"
      ]
    },
    {
      "cell_type": "markdown",
      "metadata": {},
      "source": [
        "Let's not forget to close the rpc connection to ``MAD-X``:\n\n"
      ]
    },
    {
      "cell_type": "code",
      "execution_count": null,
      "metadata": {
        "collapsed": false
      },
      "outputs": [],
      "source": [
        "lhc_madx.exit()"
      ]
    },
    {
      "cell_type": "markdown",
      "metadata": {},
      "source": [
        ".. admonition:: References\n\n   The use of the following functions, methods, classes and modules is shown\n   in this example:\n\n   - `~.cpymadtools.lhc`: `~.lhc._setup.make_lhc_beams`, `~.lhc._setup.re_cycle_sequence`, `~.lhc._setup.setup_lhc_orbit`\n   - `~.cpymadtools.generators`: `~.generators.LatticeGenerator`\n   - `~.cpymadtools.matching`: `~.matching.match_tunes_and_chromaticities`\n   - `~.plotting.lattice`: `~.plotting.lattice.plot_latwiss`\n\n"
      ]
    }
  ],
  "metadata": {
    "kernelspec": {
      "display_name": "Python 3",
      "language": "python",
      "name": "python3"
    },
    "language_info": {
      "codemirror_mode": {
        "name": "ipython",
        "version": 3
      },
      "file_extension": ".py",
      "mimetype": "text/x-python",
      "name": "python",
      "nbconvert_exporter": "python",
      "pygments_lexer": "ipython3",
      "version": "3.9.16"
    }
  },
  "nbformat": 4,
  "nbformat_minor": 0
}