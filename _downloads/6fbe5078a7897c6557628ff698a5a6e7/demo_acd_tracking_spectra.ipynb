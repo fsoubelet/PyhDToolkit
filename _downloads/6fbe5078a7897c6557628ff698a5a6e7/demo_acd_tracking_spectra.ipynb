{
  "cells": [
    {
      "cell_type": "code",
      "execution_count": null,
      "metadata": {
        "collapsed": false
      },
      "outputs": [],
      "source": [
        "%matplotlib inline"
      ]
    },
    {
      "cell_type": "markdown",
      "metadata": {},
      "source": [
        "\n\n# AC Dipole Driven Tracking Spectrum\n\nThis example shows how to use the `~.lhc.install_ac_dipole_as_kicker` and \n`~.track.track_single_particle` function to track a  particle with the \n``TRACK`` command of ``MAD-X``, and visualise its coordinates and spectrum.\n\nIn this example we will use the LHC lattice to illustrate the ACD tracking \nworkflow when using `~.cpymadtools`.\n\n<div class=\"alert alert-info\"><h4>Note</h4><p>This is very similar to the `free tracking example <demo-free-tracking>` \n    with the difference that there is special care to take to install the AC Dipole \n    element. It is recommended to read that tutorial first as this one will focus \n    on the specificities of the AC Dipole setup.</p></div>\n"
      ]
    },
    {
      "cell_type": "code",
      "execution_count": null,
      "metadata": {
        "collapsed": false
      },
      "outputs": [],
      "source": [
        "import matplotlib.pyplot as plt\nimport numpy as np\nimport pandas as pd\n\nfrom cpymad.madx import Madx\n\nfrom pyhdtoolkit.cpymadtools import lhc, matching, track\nfrom pyhdtoolkit.utils import defaults\n\ndefaults.config_logger(level=\"warning\")"
      ]
    },
    {
      "cell_type": "markdown",
      "metadata": {},
      "source": [
        "Let's start by setting up the LHC in ``MAD-X``, in this case at top energy:\n\n"
      ]
    },
    {
      "cell_type": "code",
      "execution_count": null,
      "metadata": {
        "collapsed": false
      },
      "outputs": [],
      "source": [
        "madx = Madx(stdout=False)\nmadx.call(\"lhc/lhc_as-built.seq\")\nmadx.call(\"lhc/opticsfile.22\")  # collision optics\n\nlhc.re_cycle_sequence(madx, sequence=\"lhcb1\", start=\"MSIA.EXIT.B1\")\nlhc.make_lhc_beams(madx)\nmadx.command.use(sequence=\"lhcb1\")\nmatching.match_tunes_and_chromaticities(madx, \"lhc\", \"lhcb1\", 62.31, 60.32, 2.0, 2.0)"
      ]
    },
    {
      "cell_type": "markdown",
      "metadata": {},
      "source": [
        "Slicing is necessary in ``MAD-X`` in order to perform tracking, so let's do so.\n\n"
      ]
    },
    {
      "cell_type": "code",
      "execution_count": null,
      "metadata": {
        "collapsed": false
      },
      "outputs": [],
      "source": [
        "lhc.make_lhc_thin(madx, sequence=\"lhcb1\", slicefactor=4)\nmadx.use(sequence=\"lhcb1\")"
      ]
    },
    {
      "cell_type": "markdown",
      "metadata": {},
      "source": [
        "Before tracking, we need to install the AC dipole element. We need to specify\nthe driven tunes, the kick amplitude, and the ramp-up, flat-top and ramp-down\nturns. Note that in a real machine, the ramping process should respect some\nconstaints to stay adiabatic with regards to the emittance (:cite:t:`Tomas:ACDAdiabaticity:2005`)\n\n.. important::\n    In a real machine, the AC Dipole does impact the orbit as well as the betatron\n    functions when turned on (:cite:t:`Miyamoto:ACD:2008`, part III). In ``MAD-X``\n    however, it cannot be modeled to do both at the same time. This routine introduces\n    an AC Dipole as a kicker element so that its effect can be seen on particle trajectory\n    in tracking. It **does not** affect ``TWISS`` functions.\n\nHere we will choose for the settings the same values as we use in operation in the LHC:\n\n"
      ]
    },
    {
      "cell_type": "code",
      "execution_count": null,
      "metadata": {
        "collapsed": false
      },
      "outputs": [],
      "source": [
        "lhc.install_ac_dipole_as_kicker(\n    madx,\n    deltaqx=-0.01,  # driven horizontal tune to Qxd = 62.31 - 0.01 = 62.30\n    deltaqy=0.012,  # driven vertical tune to Qyd = 60.32 + 0.012 = 60.332\n    sigma_x=2,  # bunch amplitude kick in the horizontal plane\n    sigma_y=2,  # bunch amplitude kick in the vertical plane\n    beam=1,  # beam for which to install and kick\n    start_turn=100,  # when to turn on the AC Dipole\n    ramp_turns=2000,  # how many turns to ramp up/down the AC Dipole\n    top_turns=6600,  # how many turns to keep the AC Dipole at full kick\n)"
      ]
    },
    {
      "cell_type": "markdown",
      "metadata": {},
      "source": [
        "Now we can track a particle. The process is fully similar to what was described\nin the `free tracking example <demo-free-tracking>`.\n\n"
      ]
    },
    {
      "cell_type": "code",
      "execution_count": null,
      "metadata": {
        "collapsed": false
      },
      "outputs": [],
      "source": [
        "tracks_dict = track.track_single_particle(\n    madx,\n    nturns=10_800,  # give at least (start + ramp + flat-top + ramp + margin)\n    initial_coordinates=(0, 0, 0, 0, 0, 0),\n    observation_points=[\"BPM.15L2.B1\"],\n)"
      ]
    },
    {
      "cell_type": "markdown",
      "metadata": {},
      "source": [
        "Let's have a look at the trajectory of the particle at the **BPM.15L2.B1**\nelement through the turns, here in the horizontal plane:\n\n"
      ]
    },
    {
      "cell_type": "code",
      "execution_count": null,
      "metadata": {
        "collapsed": false
      },
      "outputs": [],
      "source": [
        "tracks = tracks_dict[\"observation_point_2\"]  # this is BPM.15L2.B1\ntracks.plot(\n    x=\"turn\",\n    y=[\"x\"],\n    figsize=(25, 10),\n    title=\"Driven Motion Under AC Dipole\",\n    xlabel=\"Turn Number\",\n    ylabel=\"Transverse Positions $[m]$\",\n)\nplt.show()"
      ]
    },
    {
      "cell_type": "markdown",
      "metadata": {},
      "source": [
        "We can see the AC Dipole did its job: the amplitude of the particle stays\nat 0 for the first 100 turns, then ramps up for 2000 turns, stays at full\nkick strength for 6600 turns, then ramps down during another 2000 turns.\n\nIn order to plot the spectra of the particle motion, let's first determine it.\nTake in consideration that here, we are interested in the driven motion, so\nwe need to compute the ``np.fft.fft`` on a subset of the tracking data. In our\ncase, the flat-top starts at turn $100 + 2000 = 2100$, and ends at turn\n$100 + 2000 + 6600 = 8700$.\n\n"
      ]
    },
    {
      "cell_type": "code",
      "execution_count": null,
      "metadata": {
        "collapsed": false
      },
      "outputs": [],
      "source": [
        "spectrum = pd.DataFrame()\nspectrum[\"horizontal\"] = np.abs(np.fft.fft(tracks.x.to_numpy()[2100:8700]))  # top turns\nspectrum[\"vertical\"] = np.abs(np.fft.fft(tracks.y.to_numpy()[2100:8700]))  # top turns\nspectrum[\"tunes\"] = np.linspace(0, 1, len(spectrum))\nspectrum = spectrum[spectrum.tunes.between(0, 0.5)]  # do not care about other half"
      ]
    },
    {
      "cell_type": "markdown",
      "metadata": {},
      "source": [
        ".. tip::\n    To get the tunes of the particle, one can find the peak of the spectra. Below\n    is how we get the fractional part of the tunes. One can check that those values\n    are indeed the desired driven fractional tunes (0.30, 0.332):\n\n    .. code-block:: python\n\n     qxd = spectrum.tunes[spectrum.horizontal == spectrum.horizontal.max()].to_numpy()[0]\n     qyd = spectrum.tunes[spectrum.vertical == spectrum.vertical.max()].to_numpy()[0]\n\nOne can now plot the spectra, and here we will add two stem lines at the position of the\ndetermined driven tunes to highlight them.\n\n"
      ]
    },
    {
      "cell_type": "code",
      "execution_count": null,
      "metadata": {
        "collapsed": false
      },
      "outputs": [],
      "source": [
        "qxd = spectrum.tunes[spectrum.horizontal == spectrum.horizontal.max()].to_numpy()[0]\nqyd = spectrum.tunes[spectrum.vertical == spectrum.vertical.max()].to_numpy()[0]\n\nspectrum.plot(\n    x=\"tunes\",\n    y=[\"horizontal\", \"vertical\"],\n    figsize=(18, 10),\n    xlim=(0.28, 0.38),\n    title=\"Driven Motion Spectrum\",\n    xlabel=\"Tunes\",\n    ylabel=\"Spectrum [a.u]\",\n    logy=True,\n)\nplt.stem(qxd, spectrum.horizontal.max(), linefmt=\"C0--\", markerfmt=\"C0o\", label=r\"$Q_{xD}$\")\nplt.stem(qyd, spectrum.vertical.max(), linefmt=\"C1--\", markerfmt=\"C1o\", label=r\"$Q_{yD}$\")\nplt.legend()\nplt.show()"
      ]
    },
    {
      "cell_type": "markdown",
      "metadata": {},
      "source": [
        "Let's not forget to close the rpc connection to ``MAD-X``:\n\n"
      ]
    },
    {
      "cell_type": "code",
      "execution_count": null,
      "metadata": {
        "collapsed": false
      },
      "outputs": [],
      "source": [
        "madx.exit()"
      ]
    },
    {
      "cell_type": "markdown",
      "metadata": {},
      "source": [
        ".. admonition:: References\n\n   The use of the following functions, methods, classes and modules is shown\n   in this example:\n\n   - `~.cpymadtools.lhc`: `~.lhc.make_lhc_beams`, `~.lhc.re_cycle_sequence`, `~.lhc.make_lhc_thin`, `~.lhc.install_ac_dipole_as_kicker`\n   - `~.cpymadtools.matching`: `~.matching.match_tunes_and_chromaticities`\n   - `~.cpymadtools.track`: `~.track.track_single_particle`\n\n"
      ]
    }
  ],
  "metadata": {
    "kernelspec": {
      "display_name": "Python 3",
      "language": "python",
      "name": "python3"
    },
    "language_info": {
      "codemirror_mode": {
        "name": "ipython",
        "version": 3
      },
      "file_extension": ".py",
      "mimetype": "text/x-python",
      "name": "python",
      "nbconvert_exporter": "python",
      "pygments_lexer": "ipython3",
      "version": "3.7.12"
    }
  },
  "nbformat": 4,
  "nbformat_minor": 0
}