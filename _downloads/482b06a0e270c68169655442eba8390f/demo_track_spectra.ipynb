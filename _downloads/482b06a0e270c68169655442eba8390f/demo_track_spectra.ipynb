{
  "cells": [
    {
      "cell_type": "code",
      "execution_count": null,
      "metadata": {
        "collapsed": false
      },
      "outputs": [],
      "source": [
        "%matplotlib inline"
      ]
    },
    {
      "cell_type": "markdown",
      "metadata": {},
      "source": [
        "\n\n# Free Tracking Spectrum\n\nThis example shows how to use the `~.track.track_single_particle` function to track a \nparticle with the ``TRACK`` command of ``MAD-X``, and visualise its coordinates and spectrum.\n\nIn this example we will use the LHC lattice to illustrate the tracking workflow when using\n`~.cpymadtools`.\n"
      ]
    },
    {
      "cell_type": "code",
      "execution_count": null,
      "metadata": {
        "collapsed": false
      },
      "outputs": [],
      "source": [
        "import matplotlib.pyplot as plt\nimport numpy as np\n\nfrom cpymad.madx import Madx\n\nfrom pyhdtoolkit.cpymadtools import lhc, track\nfrom pyhdtoolkit.utils import defaults\n\ndefaults.config_logger(level=\"warning\")"
      ]
    },
    {
      "cell_type": "markdown",
      "metadata": {},
      "source": [
        "Let's start by setting up the LHC in ``MAD-X``, in this case at top energy:\n\n"
      ]
    },
    {
      "cell_type": "code",
      "execution_count": null,
      "metadata": {
        "collapsed": false
      },
      "outputs": [],
      "source": [
        "madx = Madx(stdout=False)\nmadx.call(\"lhc/lhc_as-built.seq\")\nmadx.call(\"lhc/opticsfile.22\")  # collision optics\n\nlhc.make_lhc_beams(madx)\nlhc.re_cycle_sequence(madx, sequence=\"lhcb1\", start=\"MSIA.EXIT.B1\")  # as done in OMC\n\nmadx.command.use(sequence=\"lhcb1\")"
      ]
    },
    {
      "cell_type": "markdown",
      "metadata": {},
      "source": [
        "Slicing is necessary in ``MAD-X`` in order to perform tracking, so let's do so.\n\n"
      ]
    },
    {
      "cell_type": "code",
      "execution_count": null,
      "metadata": {
        "collapsed": false
      },
      "outputs": [],
      "source": [
        "lhc.make_lhc_thin(madx, sequence=\"lhcb1\", slicefactor=4)\nmadx.use(sequence=\"lhcb1\")"
      ]
    },
    {
      "cell_type": "markdown",
      "metadata": {},
      "source": [
        "Now we can track a particle. By default, the \"start of machine\" as ``MAD-X`` sees it\nis where coordinates will be registered each turn. It is possible with this function\nto provide additional elements at which to record coordinates. In our example, we'll\nprovide two BPMs for demonstration purposes.\n\nThe function accepts many other options that will be provided to the ``TRACK`` command,\nplease refer to the API reference for more information.\n\n<div class=\"alert alert-info\"><h4>Note</h4><p>When providing additional observation points, each element must be a string,\n    and be the exact name of the element as given to ``MAD-X``.</p></div>\n\n"
      ]
    },
    {
      "cell_type": "code",
      "execution_count": null,
      "metadata": {
        "collapsed": false
      },
      "outputs": [],
      "source": [
        "tracks_dict = track.track_single_particle(\n    madx,\n    nturns=1023,\n    initial_coordinates=(2e-4, 0, 1e-4, 0, 0, 0),  # this is actually quite high!\n    observation_points=[\"BPMSW.1L1.B1_DOROS\", \"BPMSW.1R1.B1_DOROS\"],\n    # RECLOSS=True,  # Create an internal table recording lost particles\n    # ONEPASS=True,  # Do not search closed orbit and give coordinates relatively to the reference orbit\n    # DUMP=True,  # Write to file\n    # FILE=\"track\",  # File for export if DUMP=True, MAD-X appends \"one\" to this name if we set ONETABLE to True\n    # ONETABLE=True,  # Gather all observation points data into a single table (and file if DUMP set to True)\n)"
      ]
    },
    {
      "cell_type": "markdown",
      "metadata": {},
      "source": [
        "The function returns a dictionary with an entry per observation point, named\n**observation_point_n** where *n* is the number of the observation point, in the\norder they are provided. In our example, we will have three observation points: the\nstart of machine and the two provided BPMs.\n\nEach key holds as value a `~pandas.DataFrame` with the following columns: *number*, *turn*,\n*x*, *px*, *y*, *py*, *t*, *pt*, *s*, *e*. See for instance below:\n\n"
      ]
    },
    {
      "cell_type": "code",
      "execution_count": null,
      "metadata": {
        "collapsed": false
      },
      "outputs": [],
      "source": [
        "tracks_dict[\"observation_point_2\"]"
      ]
    },
    {
      "cell_type": "markdown",
      "metadata": {},
      "source": [
        "Once tracking data is obtained, one can easily plot the coordinates and spectrum\nusing the convenience `~pandas.DataFrame` plotting methods. Here it is for the\nfirst obeservation BPM we provided above:\n\n"
      ]
    },
    {
      "cell_type": "code",
      "execution_count": null,
      "metadata": {
        "collapsed": false
      },
      "outputs": [],
      "source": [
        "tracks = tracks_dict[\"observation_point_2\"]  # point 1 for MAD-X is start of machine as defined\ntracks.plot(\n    x=\"turn\",\n    y=[\"x\", \"y\"],\n    marker=\".\",\n    xlabel=\"Turn Number\",\n    ylabel=\"Transverse Positions $[m]$\",\n    figsize=(18, 10),\n)\nplt.show()"
      ]
    },
    {
      "cell_type": "markdown",
      "metadata": {},
      "source": [
        "In order to plot the spectra of the particle motion, one should first compute\nthem. This is the matter of a simple fast fourier transform:\n\n"
      ]
    },
    {
      "cell_type": "code",
      "execution_count": null,
      "metadata": {
        "collapsed": false
      },
      "outputs": [],
      "source": [
        "tracks[\"horizontal\"] = np.abs(np.fft.fft(tracks[\"x\"]))  # x spectrum\ntracks[\"vertical\"] = np.abs(np.fft.fft(tracks[\"y\"]))  # y spectrum\ntracks[\"tunes\"] = np.linspace(0, 1, len(tracks))  # used for x-axis when plotting"
      ]
    },
    {
      "cell_type": "markdown",
      "metadata": {},
      "source": [
        ".. tip::\n    To get the tunes of the particle, one can find the peak of the spectra.\n\n    .. code-block:: python\n\n     qx = tracks.tunes[tracks.horizontal == tracks.horizontal.max()].to_numpy()[0]\n     qy = tracks.tunes[tracks.vertical == tracks.vertical.max()].to_numpy()[0]\n\nOne can then plot the spectra by plotting the computed values against the tune space:\n\n"
      ]
    },
    {
      "cell_type": "code",
      "execution_count": null,
      "metadata": {
        "collapsed": false
      },
      "outputs": [],
      "source": [
        "tracks.plot(\n    x=\"tunes\",\n    y=[\"horizontal\", \"vertical\"],\n    marker=\".\",\n    xlim=(0.25, 0.4),\n    xlabel=\"Tunes\",\n    ylabel=\"Spectrum [a.u]\",\n    figsize=(18, 10),\n)"
      ]
    },
    {
      "cell_type": "markdown",
      "metadata": {},
      "source": [
        "In case the user provided ``ONETABLE=True`` to the tracking function, then all\nobservation points data will be stored in a single `~pandas.DataFrame` that can\nbe accessed with the **trackone** key in the returned dictionary. In that case,\naccessing the coordinates at a given observation point is done by making use of\nthe DataFrame indexing syntax:\n\n"
      ]
    },
    {
      "cell_type": "code",
      "execution_count": null,
      "metadata": {
        "collapsed": false
      },
      "outputs": [],
      "source": [
        "tracks_dict = track.track_single_particle(\n    madx,\n    nturns=10,  # few turns to speedup the example\n    initial_coordinates=(2e-4, 0, 1e-4, 0, 0, 0),\n    observation_points=[\"BPMSW.1L1.B1_DOROS\", \"BPMSW.1R1.B1_DOROS\"],\n    ONETABLE=True,  # Gather all observation points data into a single table (and file if DUMP set to True)\n)\n\nobservation_point = \"BPMSW.1L1.B1_DOROS\"\ntracks = tracks_dict[\"trackone\"]\ntracks[tracks.index == observation_point.lower()]  # cpymad lower-cases the names"
      ]
    },
    {
      "cell_type": "markdown",
      "metadata": {},
      "source": [
        "Let's not forget to close the rpc connection to ``MAD-X``:\n\n"
      ]
    },
    {
      "cell_type": "code",
      "execution_count": null,
      "metadata": {
        "collapsed": false
      },
      "outputs": [],
      "source": [
        "madx.exit()"
      ]
    },
    {
      "cell_type": "markdown",
      "metadata": {},
      "source": [
        ".. admonition:: References\n\n   The use of the following functions, methods, classes and modules is shown\n   in this example:\n\n   - `~.cpymadtools.lhc`: `~.lhc.make_lhc_beams`, `~.lhc.re_cycle_sequence`\n   - `~.cpymadtools.track`: `~.track.track_single_particle`\n\n"
      ]
    }
  ],
  "metadata": {
    "kernelspec": {
      "display_name": "Python 3",
      "language": "python",
      "name": "python3"
    },
    "language_info": {
      "codemirror_mode": {
        "name": "ipython",
        "version": 3
      },
      "file_extension": ".py",
      "mimetype": "text/x-python",
      "name": "python",
      "nbconvert_exporter": "python",
      "pygments_lexer": "ipython3",
      "version": "3.7.12"
    }
  },
  "nbformat": 4,
  "nbformat_minor": 0
}