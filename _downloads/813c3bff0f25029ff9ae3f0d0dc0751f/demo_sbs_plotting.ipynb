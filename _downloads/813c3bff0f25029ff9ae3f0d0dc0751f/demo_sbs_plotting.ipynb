{
  "cells": [
    {
      "cell_type": "code",
      "execution_count": null,
      "metadata": {
        "collapsed": false
      },
      "outputs": [],
      "source": [
        "%matplotlib inline"
      ]
    },
    {
      "cell_type": "markdown",
      "metadata": {},
      "source": [
        "\n\n# Segment-by-Segment Results\n\nThis example shows how to use the modules in `pyhdtoolkit.plotting.sbs` and their various functions\nto easily visualize results of segment-by-segment runs.\n"
      ]
    },
    {
      "cell_type": "code",
      "execution_count": null,
      "metadata": {
        "collapsed": false
      },
      "outputs": [],
      "source": [
        "import matplotlib.pyplot as plt\nimport tfs\n\nfrom pyhdtoolkit.plotting.sbs import coupling, phase\nfrom pyhdtoolkit.utils import defaults\n\ndefaults.config_logger(level=\"warning\")\nplt.rcParams.update(defaults._SPHINX_GALLERY_PARAMS)  # for readability of this tutorial\nplt.rcParams.update({\"text.usetex\": True, \"legend.fontsize\": 16})  # for these specific plots"
      ]
    },
    {
      "cell_type": "markdown",
      "metadata": {},
      "source": [
        "The functions in `~pyhdtoolkit.plotting.sbs` modules usually need to be provided\ndifferent dataframes corresponding to specific components of segment-by-segment\nresults, which can be obtained by directly loading the output **TFS** files.\nLet's load below the coupling results of a segment-by-segment run and related\nmodel files.\n\n"
      ]
    },
    {
      "cell_type": "code",
      "execution_count": null,
      "metadata": {
        "collapsed": false
      },
      "outputs": [],
      "source": [
        "b1_model_tfs = tfs.read(\"sbs/b1_twiss_elements.dat\")\nb2_model_tfs = tfs.read(\"sbs/b2_twiss_elements.dat\")\n\ncouple_b1_tfs = tfs.read(\"sbs/b1_sbscouple_IP1.out\")\ncouple_b2_tfs = tfs.read(\"sbs/b2_sbscouple_IP1.out\")"
      ]
    },
    {
      "cell_type": "markdown",
      "metadata": {},
      "source": [
        "One can now easily plot these results in a few lines with functions from the\n`~.plotting.sbs.coupling` module. Here we will plot a single component of a\ngiven coupling RDT through the segment.\n\n.. tip::\n    Providing a dataframe with the model information is optional. If it is given, it is\n    used to determine the position of the IP point in the segment, and this position\n    will then be highlighted in the plot.\n\n"
      ]
    },
    {
      "cell_type": "code",
      "execution_count": null,
      "metadata": {
        "collapsed": false
      },
      "outputs": [],
      "source": [
        "# Here we plot the real part of the f1001 coupling resonance driving term (default rdt plotted)\ncoupling.plot_rdt_component(\n    couple_b1_tfs,\n    couple_b2_tfs,\n    b1_model_tfs,\n    b2_model_tfs,\n    ip=1,\n    component=\"RE\",\n    figsize=(12, 12),\n    b1_ylabel=r\"$\\mathrm{Beam\\ 1}$ $\\Re f_{1001}$\",\n    b2_ylabel=r\"$\\mathrm{Beam\\ 2}$ $\\Re f_{1001}$\",\n)\n# We can set specific limits to the axes by accessing them through the returned Figure\nfor ax in plt.gcf().axes:\n    ax.set_ylim(-0.1, 0.1)\nplt.show()"
      ]
    },
    {
      "cell_type": "markdown",
      "metadata": {},
      "source": [
        "One can plot all components of a given coupling RDT for both beams with the\n`~.plotting.sbs.coupling.plot_full_ip_rdt` function.\n\n.. tip::\n    Specific limits can be provided for different components of the RDT. At the\n    moment, these limits apply to the plots of both beams as they share their y\n    axis. Keyword arguments can be used to specify properties of the figure and\n    set the position of the legend.\n\n"
      ]
    },
    {
      "cell_type": "code",
      "execution_count": null,
      "metadata": {
        "collapsed": false
      },
      "outputs": [],
      "source": [
        "coupling.plot_full_ip_rdt(\n    couple_b1_tfs,\n    couple_b2_tfs,\n    b1_model_tfs,\n    b2_model_tfs,\n    ip=1,\n    figsize=(20, 10),\n    abs_ylimits=(5e-3, 6.5e-2),\n    real_ylimits=(-1e-1, 1e-1),\n    imag_ylimits=(-1e-1, 1e-1),\n    bbox_to_anchor=(0.535, 0.945),\n)\nplt.show()"
      ]
    },
    {
      "cell_type": "markdown",
      "metadata": {},
      "source": [
        "Similarly, one can plot the phase results of a segment-by-segment run with the\nfunctions in `~.plotting.sbs.phase`. The plotting logic is the same as above,\nwith the simplification that no component has to be chosen. Let's load data for\nthis example: one dataframe for each plane for Beam 2.\n\n"
      ]
    },
    {
      "cell_type": "code",
      "execution_count": null,
      "metadata": {
        "collapsed": false
      },
      "outputs": [],
      "source": [
        "sbs_phasex = tfs.read(\"sbs/b2sbsphasext_IP5.out\")\nsbs_phasey = tfs.read(\"sbs/b2sbsphaseyt_IP5.out\")\n\nphase.plot_phase_segment_one_beam(\n    phase_x=sbs_phasex,\n    phase_y=sbs_phasey,\n    model=b2_model_tfs,\n    ip=5,\n    figsize=(12, 12),\n)\nplt.show()"
      ]
    },
    {
      "cell_type": "markdown",
      "metadata": {},
      "source": [
        "Similarly to the coupling example, one can plot the results for both beams in\na single call with the `~.plotting.sbs.phase.plot_phase_segment_both_beams`\nfunction, as demonstrated below.\n\n"
      ]
    },
    {
      "cell_type": "code",
      "execution_count": null,
      "metadata": {
        "collapsed": false
      },
      "outputs": [],
      "source": [
        "phase.plot_phase_segment_both_beams(\n    b1_phase_x=sbs_phasex,\n    b1_phase_y=sbs_phasey,\n    b2_phase_x=sbs_phasex,\n    b2_phase_y=sbs_phasey,\n    b1_model=b2_model_tfs,\n    b2_model=b2_model_tfs,\n    ip=5,\n    figsize=(20, 10),\n    bbox_to_anchor=(0.535, 0.94),\n)\nplt.show()"
      ]
    },
    {
      "cell_type": "markdown",
      "metadata": {},
      "source": [
        ".. admonition:: References\n\n   The use of the following functions, methods, classes and modules is shown\n   in this example:\n\n   - `~.plotting.sbs.coupling`: `~.plotting.sbs.coupling.plot_rdt_component`, `~.plotting.sbs.coupling.plot_full_ip_rdt`\n   - `~.plotting.sbs.phase`: `~.plotting.sbs.phase.plot_phase_segment_one_beam`, `~.plotting.sbs.phase.plot_phase_segment_both_beams`\n\n"
      ]
    }
  ],
  "metadata": {
    "kernelspec": {
      "display_name": "Python 3",
      "language": "python",
      "name": "python3"
    },
    "language_info": {
      "codemirror_mode": {
        "name": "ipython",
        "version": 3
      },
      "file_extension": ".py",
      "mimetype": "text/x-python",
      "name": "python",
      "nbconvert_exporter": "python",
      "pygments_lexer": "ipython3",
      "version": "3.9.14"
    }
  },
  "nbformat": 4,
  "nbformat_minor": 0
}